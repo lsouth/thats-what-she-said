{
 "cells": [
  {
   "cell_type": "code",
   "execution_count": 142,
   "metadata": {},
   "outputs": [],
   "source": [
    "import pandas as pd\n",
    "import numpy as np\n",
    "import string\n",
    "import time\n",
    "import random\n",
    "import unidecode\n",
    "import math\n",
    "\n",
    "import torch\n",
    "import torch.nn as nn\n",
    "from torch.autograd import Variable\n",
    "\n",
    "from nltk.corpus import stopwords\n",
    "from nltk.tokenize import word_tokenize, sent_tokenize\n",
    "\n",
    "import matplotlib.pyplot as plt\n",
    "import matplotlib.ticker as ticker"
   ]
  },
  {
   "cell_type": "code",
   "execution_count": 134,
   "metadata": {},
   "outputs": [
    {
     "name": "stdout",
     "output_type": "stream",
     "text": [
      "{1: 'Michael', 2: 'Dwight', 3: 'Jim', 4: 'Pam', 5: 'Andy', 6: 'Kevin', 7: 'Angela', 8: 'Oscar', 9: 'Erin', 10: 'Ryan', 11: 'Darryl', 12: 'Phyllis', 13: 'Kelly', 14: 'Jan', 15: 'Toby', 16: 'Other'}\n"
     ]
    }
   ],
   "source": [
    "lines = pd.read_csv(\"the-office-lines-simplified.csv\")\n",
    "characters = {\n",
    "    \"Michael\":1,\"Dwight\":2,\"Jim\":3,\"Pam\":4,\"Andy\":5,\"Kevin\":6,\"Angela\":7,\n",
    "    \"Oscar\":8,\"Erin\":9,\"Ryan\":10,\"Darryl\":11,\"Phyllis\":12,\"Kelly\":13,\"Jan\":14,\"Toby\":15,\"Other\":16\n",
    "}\n",
    "\n",
    "characters_inverted = {}\n",
    "for c in characters:\n",
    "    characters_inverted[characters[c]] = c\n",
    "print characters_inverted\n",
    "\n",
    "all_characters = string.printable # switch this with words instead of characters\n",
    "n_characters = len(all_characters)"
   ]
  },
  {
   "cell_type": "code",
   "execution_count": 133,
   "metadata": {},
   "outputs": [],
   "source": [
    "full_text = \"\"\n",
    "for i, line in enumerate(lines['line_text']):\n",
    "    full_text += characters_inverted[lines['speaker_id'][i]] + ': ' + lines['line_text'][i] + '\\n'\n",
    "    #if i==10: break\n",
    "words = []"
   ]
  },
  {
   "cell_type": "code",
   "execution_count": 135,
   "metadata": {},
   "outputs": [],
   "source": [
    "def time_since(since):\n",
    "    s = time.time() - since\n",
    "    m = math.floor(s / 60)\n",
    "    s -= m * 60\n",
    "    return '%dm %ds' % (m, s)"
   ]
  },
  {
   "cell_type": "code",
   "execution_count": 136,
   "metadata": {},
   "outputs": [],
   "source": [
    "class RNN(nn.Module):\n",
    "    def __init__(self, input_size, hidden_size, output_size, n_layers=1):\n",
    "        super(RNN, self).__init__()\n",
    "        self.input_size = input_size\n",
    "        self.hidden_size = hidden_size\n",
    "        self.output_size = output_size\n",
    "        self.n_layers = n_layers\n",
    "        \n",
    "        self.encoder = nn.Embedding(input_size, hidden_size)\n",
    "        self.gru = nn.GRU(hidden_size, hidden_size, n_layers)\n",
    "        self.decoder = nn.Linear(hidden_size, output_size)\n",
    "    \n",
    "    def forward(self, input, hidden):\n",
    "        input = self.encoder(input.view(1, -1))\n",
    "        output, hidden = self.gru(input.view(1, 1, -1), hidden)\n",
    "        output = self.decoder(output.view(1, -1))\n",
    "        return output, hidden\n",
    "\n",
    "    def init_hidden(self):\n",
    "        return Variable(torch.zeros(self.n_layers, 1, self.hidden_size))"
   ]
  },
  {
   "cell_type": "code",
   "execution_count": 137,
   "metadata": {},
   "outputs": [],
   "source": [
    "def train(inp, target):\n",
    "    hidden = decoder.init_hidden()\n",
    "    decoder.zero_grad()\n",
    "    loss = 0\n",
    "\n",
    "    for c in range(chunk_len):\n",
    "        output, hidden = decoder(inp[c], hidden)\n",
    "        loss += criterion(output, target[c].unsqueeze(0))\n",
    "\n",
    "    loss.backward()\n",
    "    decoder_optimizer.step()\n",
    "\n",
    "    return loss.data.item() / chunk_len"
   ]
  },
  {
   "cell_type": "code",
   "execution_count": 138,
   "metadata": {},
   "outputs": [
    {
     "name": "stdout",
     "output_type": "stream",
     "text": [
      "tensor([10, 11, 12, 39, 40, 41])\n",
      "w. Hey, nice talking to you too. All right take care. [sighs] Michael Scoot. That's funny. He's a good friend.\n",
      "Dwight: [eating Tootsie Rolls from Angela's candy on her desk] Mmm. Good. Mmm.\n",
      "Angela: The\n"
     ]
    }
   ],
   "source": [
    "def random_training_set():    \n",
    "    chunk = random_chunk()\n",
    "    inp = char_tensor(chunk[:-1])\n",
    "    target = char_tensor(chunk[1:])\n",
    "    return inp, target\n",
    "\n",
    "chunk_len = 200\n",
    "\n",
    "def random_chunk():\n",
    "    start_index = random.randint(0, len(full_text) - chunk_len)\n",
    "    end_index = start_index + chunk_len + 1\n",
    "    return full_text[start_index:end_index]\n",
    "\n",
    "def char_tensor(string):\n",
    "    tensor = torch.zeros(len(string)).long()\n",
    "    for c in range(len(string)):\n",
    "        tensor[c] = all_characters.index(string[c])\n",
    "    return Variable(tensor)\n",
    "\n",
    "print(char_tensor('abcDEF'))\n",
    "\n",
    "print(random_chunk())"
   ]
  },
  {
   "cell_type": "code",
   "execution_count": 139,
   "metadata": {},
   "outputs": [],
   "source": [
    "\n",
    "\n",
    "def evaluate(prime_str='A', predict_len=100, temperature=0.8):\n",
    "    hidden = decoder.init_hidden()\n",
    "    prime_input = char_tensor(prime_str)\n",
    "    predicted = prime_str\n",
    "\n",
    "    # Use priming string to \"build up\" hidden state\n",
    "    for p in range(len(prime_str) - 1):\n",
    "        _, hidden = decoder(prime_input[p], hidden)\n",
    "    inp = prime_input[-1]\n",
    "    \n",
    "    for p in range(predict_len):\n",
    "        output, hidden = decoder(inp, hidden)\n",
    "        \n",
    "        # Sample from the network as a multinomial distribution\n",
    "        output_dist = output.data.view(-1).div(temperature).exp()\n",
    "        top_i = torch.multinomial(output_dist, 1)[0]\n",
    "        \n",
    "        # Add predicted character to string and use as next input\n",
    "        predicted_char = all_characters[top_i]\n",
    "        predicted += predicted_char\n",
    "        inp = char_tensor(predicted_char)\n",
    "\n",
    "    return predicted\n",
    "\n"
   ]
  },
  {
   "cell_type": "code",
   "execution_count": 146,
   "metadata": {},
   "outputs": [
    {
     "name": "stdout",
     "output_type": "stream",
     "text": [
      "[0m 14s (100 0%) 2.3342]\n",
      "Whela meantith afond thote no?\n",
      "Pam: hat thange gmay that thincut and mere mantt fofeon. mouond thael mely man here s.\n",
      "Osmer: 1-_A9(\n",
      "POos?? barr in thansy. Thany het thidn.\n",
      "Pam: Atans thouree thave an So. [foudich wobele to nounele fo ceond cowh. Whol. That abed fon?? The ar me giled thing ast a noele thightet eaf dond whas give feleons sut the that mete on and cound.\n",
      "Payn: She hond thetinch and orut\n",
      "\n",
      "[0m 28s (200 0%) 1.9963]\n",
      "What furs it thut ther have fo mat one, think in't hen thered to gut han and thet I bouts I dond is is to fes mot the hap oond sind of liontight whind lind mand the Oh the cham bort you gon meve mind the min Mazyl go gotis ming a then I in my of bum, that beah ming dove bos gusursinnt me gefontind for go wined sume?  Jim. You ligtell in you hameing hoing anded if baelay Hory dely in you to I batan t\n",
      "\n",
      "[0m 43s (300 0%) 1.9422]\n",
      "What's ut to to dot. Yechause.\n",
      "Other: That to core get to Mientor to kif?\n",
      "Dwight: You get this. Worker thing thins tuys thing the ound for for you. I fusall ul.  how sho to her. I gon't it the rowered. The oung the would sorre. And would of and worl all gill to not to of of of dont.. I it that wisten goudnt wo get tone this ofing to for retece's thing cup yues. Sup coker of lin cong ut. Oh, of that \n",
      "\n",
      "[0m 58s (400 0%) 2.2211]\n",
      "When: Wall war calving his clear Ellet here abe and that gold hard denthat if mee, did Hayk the hus call.  This a be als.\n",
      "Other: Well, here have who cally liook in there know you... Ress gare.  Ame be mah!\n",
      "Michael: The gobdly sam that. Hey stans with go a don't all the con't here full this it cools to dive pof boine.\n",
      "Andy: This garl the bext abe it alreded snove here a then it about care am on you h\n",
      "\n",
      "[1m 13s (500 0%) 1.8379]\n",
      "Whoubling muse no the blage to chits but offices and suse bere to to was them pally sorssdich me at to attenten ve and me cauctinging s out at we gan ristrestany it on gettons to on the off sae! Lomesbe browe! Oh, wat here you go evione!\n",
      "Other: Okay, you know, So then a sure get do dondionn. [dlound my buctroan]\n",
      "Kevin: And just go say me tlake a mondow net hay deve hat mabout every I dong and the sa\n",
      "\n",
      "[1m 27s (600 0%) 1.7897]\n",
      "What?- I freally out then seard a imenfe if a gright I've to to still it helfecepally the some a if or you. Bum to me to feraps think pented I freal, was prons fwornd-wasite go disteth to had got teratield of the off that? Becally like was iz am peptering had's a last paigerest it a get the like this and we did to it.\n",
      "Michael: Bust you kight that I hod to was there we you we atinges. Mam that you de\n",
      "\n",
      "[1m 42s (700 0%) 1.6989]\n",
      "Whan to it's wides get all intich.  Thank you beer. [ame it's the weret of a Felp, Oh, lake jue's  one.\n",
      "Pam: Oh, were can in his joker it going brout ask to nee to feel in then hery. No. I do.\n",
      "Other: They, not Celely me are to a with juest your who this than you're we queso what e! Os me pop is that what we meanser! Flail of and the ame. You some mees were keen the of cappear show some.... [come was\n",
      "\n",
      "[1m 57s (800 0%) 1.6455]\n",
      "Whis this sfire your sechout it ined wordy.\n",
      "Michael: Mwo, I you walking to to up do oby actashe, this task.\n",
      "Michael: Ohrusts. You didn't kid was the fread.\n",
      "Michael: [hang] You're so Vere at tooged you?\n",
      "Other: Dwight.\n",
      "Other: Dwight all the sork to in was on a for nee, or! Good...\n",
      "Andy: Well you're peereah. Wou're happen hided doing! Where wan the sheathe totwody.\n",
      "Dwight: You you she caned of alto way\n",
      "\n",
      "[2m 11s (900 0%) 1.7106]\n",
      "What my Jim.\n",
      "Pam: You would was waashe to here flace. [chanch asten of if waysinsayin: Thanked of not the Dwight.\n",
      "Other: Ackinger what up he but to make ware you at thinger for have and bettapy ream?\n",
      "Dwight: ury lame.\n",
      "Pam: That's theres pruct of that I what waser pubs to herry up that, with not yeal for cayes is out not in marracheh a scould all not my of I make at for would up a something our ways \n",
      "\n",
      "[2m 25s (1000 0%) 1.7359]\n",
      "Whed's so the sain Sot to the plainzay... the hould botty the back my 206%....??? liske into the mople dight sarey. Bye! Alon you do one it sicthing the take malk is there. The was me it is a climast, Don't evere is things, me that you stall a the back tell I fish up said. Andy out no bight a lobt apt you the back like.\n",
      "MAm: I'm in sech mice is in all St spert it and Eve starty the would wait doing \n",
      "\n",
      "[2m 40s (1100 0%) 1.6976]\n",
      "Where nip talks ast there only say there - Michael, that that welle oflot. [stote talle] Right, Bother it was and have on at bosties, yes perty games miepion have in it that were workant and I like protenalistenone whot that's like good. That my gy there???s this east is a flomerone a make all my all is se was and Blillen for lusn was you a the a offies the on Lythell room ort. Where good, somes a g\n",
      "\n",
      "[2m 55s (1200 0%) 1.7753]\n",
      "Whylling out say in to he -\n",
      "Other:  Michael, you know is bere.\n",
      "Other: Oh it's frostallue. I see in is the still sture the siles this for at it whoate it's toor, And?\n",
      "Other: Get is the tieng delles that recille.\n",
      "Eri: Hey, it's fine that?\n",
      "Other: Marge armager, what you silled ilitable.\n",
      "Michael: And hat, Am what does that out four fire for out out? [stant] I alrice puctonettle doeling to mery see not t\n",
      "\n",
      "[3m 9s (1300 0%) 1.5557]\n",
      "What's look the cencingnices. Loold now, cand fun you have and have the can yous like we going get lack ounds.\n",
      "Jim: The whot is a cave. Thank you looke.\n",
      "Erin: And I'm proby you dedement of contantlen.\n",
      "Phyllis: Thas I'm now no office is oning my yeas!\n",
      "Other: Pright blasse. [laughs! That's grate works side of good!\n",
      "Dwight: Oh, you know, I want...\n",
      "Jim: Oh, me on. OK. And hear, has you for this of your \n",
      "\n",
      "[3m 24s (1400 0%) 1.7287]\n",
      "Where my with you get was plase in peopliar. You.\n",
      "Michael: [cells]\n",
      "Kis: Yeah. Yes.\n",
      "Erin: No, yeah.\n",
      "Dwight: [the the come Karrd goods you car, Michael so to peoples. And a so The make got?\n",
      "Michael: Yes, what we we steee you with his you plareples was of the lide Hmer winged.\n",
      "Angela: You the lithation, Gons you girsnean.\n",
      "Michael: [splart]  He???s Kave so boom, one vase, ok. [theip] [supperation Mons]\n",
      "\n",
      "\n",
      "[3m 39s (1500 0%) 1.7114]\n",
      "What I hadn't and. You hould awe hour was that to heir.\n",
      "Michael: Those've the there.\n",
      "Jim: I'm some him if you to let's saight.\n",
      "Michael: I thing it's botes. I then to.\n",
      "Michael: Thing the hot seated the ha late and you ding.\n",
      "Jim: I don't hight???ll huh, 'Ihere it a happer back the srideane the here it an aglike fird on the besboring the have at girls to the like I just he's his the You know the should\n",
      "\n",
      "[3m 54s (1600 0%) 1.9121]\n",
      "Whed, What???ll something your in the prectingal. Yee! What my sider problibe. Hey! [Halk comethered gonna not the calco fess Michael: Michael, you to ghead. [to is oh really for on Pelly. [nate] The do think think now. Skiidn't fine here!\n",
      "Pam: I'm work med my right.\n",
      "Other: I know. [twright: Here exy med's not me she come in the comping. [to one troded we darry can't hare] What hust props mood of ba\n",
      "\n",
      "[4m 8s (1700 0%) 1.6764]\n",
      "Where?\n",
      "Erin: I wenwed want be a didds. [Dwight in think now what in] Darryl.......... is in of what work don and you than know be head. It's be cort close to it, it's dear.  That's where you.\n",
      "Jim: So yeah. You yet's can you won any???mve lread.\n",
      "Michael: So I'm me. [dease a quey] Od in counnaw, it's sing, to dust in to grear.\n",
      "Michael: Don't danne.  Your can your riendle.\n",
      "Michael: uh,, and you up to c\n",
      "\n",
      "[4m 22s (1800 0%) 1.6032]\n",
      "Where neerroomerey agast to calla? We up a do his come it?\n",
      "Other: It is a leaned haturen do on't -\n",
      "Other: I am bet that nears, I wanter don't one iin wen the compery one of her. We caller throuted let losse me to stoprately. [laughs]\n",
      "Michael: We hal you wich you???ll see his swere it the fire????? Well, Ryeah.\n",
      "Dwight: 700 is my mut me comed of you penying I may are nachi-ght.\n",
      "Other: I wan to the ona\n",
      "\n",
      "[4m 37s (1900 0%) 1.9819]\n",
      "Who my my is on my to going fally out don my puy. [Jan] What it's rains at do papput home destear.\n",
      "Other: This mod, I would me a my for my munong my bless.\n",
      "Dwight: Hey. Hey, it? I manter who comper it.\n",
      "Other: What's grought sayer.\n",
      "Oscar: Drows up, buck. What, I piff....... Ast knixtrobby, you got you have good. [Dight's good] I am with at mueing be tor frious blaugh thing a they. And what in Angela.\n",
      "\n",
      "[4m 51s (2000 100%) 2.3075]\n",
      "Where? I don't know what a do off.\n",
      "Michael: Yeah is say in to I get to tryperdering's be to here. No, don't he we siterating to griceasis driend they don't know the Michael nex-'s therel was weekers.\n",
      "Kevin: I hold they're getton.\n",
      "Andy: Okay.\n",
      "?in: [hands] Okay. What's now ighs to shedly for in the of why what if when smades for wearing to get abouts a green the for of the togetter. There's doing cluo\n",
      "\n"
     ]
    }
   ],
   "source": [
    "n_epochs = 2000\n",
    "print_every = 100\n",
    "plot_every = 10\n",
    "hidden_size = 100\n",
    "n_layers = 2\n",
    "lr = 0.005\n",
    "\n",
    "decoder = RNN(n_characters, hidden_size, n_characters, n_layers)\n",
    "decoder_optimizer = torch.optim.Adam(decoder.parameters(), lr=lr)\n",
    "criterion = nn.CrossEntropyLoss()\n",
    "\n",
    "start = time.time()\n",
    "all_losses = []\n",
    "loss_avg = 0\n",
    "\n",
    "for epoch in range(1, n_epochs + 1):\n",
    "    loss = train(*random_training_set())       \n",
    "    loss_avg += loss\n",
    "\n",
    "    if epoch % print_every == 0:\n",
    "        print('[%s (%d %d%%) %.4f]' % (time_since(start), epoch, epoch / n_epochs * 100, loss))\n",
    "        print evaluate('Wh', 400) + '\\n'\n",
    "\n",
    "    if epoch % plot_every == 0:\n",
    "        all_losses.append(loss_avg / plot_every)\n",
    "        loss_avg = 0"
   ]
  },
  {
   "cell_type": "code",
   "execution_count": 147,
   "metadata": {},
   "outputs": [
    {
     "data": {
      "image/png": "[encoded data removed]",
      "text/plain": [
       "<Figure size 432x288 with 1 Axes>"
      ]
     },
     "metadata": {
      "needs_background": "light"
     },
     "output_type": "display_data"
    }
   ],
   "source": [
    "plt.figure()\n",
    "plt.plot(all_losses)\n",
    "plt.show()"
   ]
  },
  {
   "cell_type": "code",
   "execution_count": 149,
   "metadata": {},
   "outputs": [
    {
     "name": "stdout",
     "output_type": "stream",
     "text": [
      "Andy: Yeah.  Michael really the suff]\n",
      "Michael: Buttle. I do you're why doo?\n",
      "Michael: No the not anyss. I'm Joung.\n",
      "Michael: No. I don't want sitches. He's was her.\n",
      "Darryl: Pelley or now supent freen to you\n"
     ]
    }
   ],
   "source": [
    "print evaluate('Andy', 200)"
   ]
  }
 ],
 "metadata": {
  "kernelspec": {
   "display_name": "Python 2",
   "language": "python",
   "name": "python2"
  },
  "language_info": {
   "codemirror_mode": {
    "name": "ipython",
    "version": 2
   },
   "file_extension": ".py",
   "mimetype": "text/x-python",
   "name": "python",
   "nbconvert_exporter": "python",
   "pygments_lexer": "ipython2",
   "version": "2.7.15rc1"
  }
 },
 "nbformat": 4,
 "nbformat_minor": 2
}
