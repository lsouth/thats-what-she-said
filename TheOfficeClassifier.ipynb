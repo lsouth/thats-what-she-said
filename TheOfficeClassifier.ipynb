{
 "cells": [
  {
   "cell_type": "code",
   "execution_count": 10,
   "metadata": {},
   "outputs": [
    {
     "name": "stderr",
     "output_type": "stream",
     "text": [
      "[nltk_data] Downloading package stopwords to\n",
      "[nltk_data]     C:\\Users\\Laura\\AppData\\Roaming\\nltk_data...\n",
      "[nltk_data]   Package stopwords is already up-to-date!\n",
      "[nltk_data] Downloading package wordnet to\n",
      "[nltk_data]     C:\\Users\\Laura\\AppData\\Roaming\\nltk_data...\n",
      "[nltk_data]   Package wordnet is already up-to-date!\n"
     ]
    }
   ],
   "source": [
    "import re\n",
    "import nltk\n",
    "from nltk.corpus import stopwords\n",
    "from nltk.tokenize import word_tokenize, sent_tokenize\n",
    "from nltk.stem import WordNetLemmatizer\n",
    "nltk.download('stopwords')  \n",
    "nltk.download('wordnet')  \n",
    "\n",
    "import math\n",
    "import matplotlib.pyplot as plt\n",
    "import pandas as pd\n",
    "import numpy as np\n",
    "\n",
    "from sklearn import decomposition\n",
    "from sklearn.feature_extraction.text import CountVectorizer, TfidfTransformer\n",
    "from sklearn.naive_bayes import MultinomialNB\n",
    "from sklearn.model_selection import train_test_split\n",
    "from sklearn.svm import LinearSVC\n",
    "from sklearn.linear_model import LogisticRegression\n",
    "from sklearn.neural_network import MLPClassifier"
   ]
  },
  {
   "cell_type": "code",
   "execution_count": 3,
   "metadata": {},
   "outputs": [],
   "source": [
    "lines = pd.read_csv(\"the-office-lines-simplified.csv\")"
   ]
  },
  {
   "cell_type": "code",
   "execution_count": 45,
   "metadata": {},
   "outputs": [
    {
     "data": {
      "text/plain": [
       "dict_keys(['Michael', 'Dwight', 'Jim', 'Pam', 'Andy', 'Kevin', 'Angela', 'Oscar', 'Erin', 'Ryan', 'Darryl', 'Phyllis', 'Kelly', 'Jan', 'Toby', 'Other'])"
      ]
     },
     "execution_count": 45,
     "metadata": {},
     "output_type": "execute_result"
    }
   ],
   "source": [
    "characters.keys()"
   ]
  },
  {
   "cell_type": "code",
   "execution_count": 72,
   "metadata": {},
   "outputs": [
    {
     "data": {
      "text/plain": [
       "Text(0.5,1,'Distribution of lines by character in \"The Office\"')"
      ]
     },
     "execution_count": 72,
     "metadata": {},
     "output_type": "execute_result"
    },
    {
     "data": {
      "image/png": "[encoded data removed]",
      "text/plain": [
       "<matplotlib.figure.Figure at 0x184ec500550>"
      ]
     },
     "metadata": {},
     "output_type": "display_data"
    }
   ],
   "source": [
    "n = len(characters.keys())\n",
    "fig, ax = plt.subplots(1, 1)\n",
    "ax.hist(lines['speaker_id'], bins=n,rwidth=0.8)\n",
    "plt.xticks(np.arange(n)+1,characters.keys(),rotation=\"vertical\")\n",
    "plt.xlabel(\"Character\")\n",
    "plt.ylabel(\"Number of lines\")\n",
    "plt.title(\"Distribution of lines by character in \\\"The Office\\\"\")"
   ]
  },
  {
   "cell_type": "code",
   "execution_count": 4,
   "metadata": {},
   "outputs": [],
   "source": [
    "class LemmaTokenizer(object):\n",
    "    def __init__(self):\n",
    "        self.wnl = WordNetLemmatizer()\n",
    "    def __call__(self, articles):\n",
    "        return [self.wnl.lemmatize(t) for t in word_tokenize(articles)]"
   ]
  },
  {
   "cell_type": "code",
   "execution_count": 5,
   "metadata": {},
   "outputs": [
    {
     "name": "stdout",
     "output_type": "stream",
     "text": [
      "(47927,) (47927,)\n",
      "(11982,) (11982,)\n"
     ]
    }
   ],
   "source": [
    "# Generate training/testing splits\n",
    "X_train, X_test, y_train, y_test = train_test_split(lines['line_text'], lines['speaker_id'], test_size=0.2)\n",
    "print(X_train.shape, y_train.shape)\n",
    "print(X_test.shape, y_test.shape)"
   ]
  },
  {
   "cell_type": "code",
   "execution_count": 6,
   "metadata": {},
   "outputs": [],
   "source": [
    "characters = {\n",
    "    \"Michael\":1,\"Dwight\":2,\"Jim\":3,\"Pam\":4,\"Andy\":5,\"Kevin\":6,\"Angela\":7,\n",
    "    \"Oscar\":8,\"Erin\":9,\"Ryan\":10,\"Darryl\":11,\"Phyllis\":12,\"Kelly\":13,\"Jan\":14,\"Toby\":15,\"Other\":16\n",
    "}"
   ]
  },
  {
   "cell_type": "code",
   "execution_count": 110,
   "metadata": {},
   "outputs": [],
   "source": [
    "michael = lines.loc[lines['speaker_id'] == 1]"
   ]
  },
  {
   "cell_type": "code",
   "execution_count": 15,
   "metadata": {},
   "outputs": [],
   "source": [
    "def remove_special_chars(sent):\n",
    "    stripped = re.sub('[^\\w\\s]','',sent)\n",
    "    stripped = re.sub('_', ' ', stripped)\n",
    "    stripped = re.sub('\\s+', ' ', stripped)\n",
    "    stripped = stripped.strip()\n",
    "    return stripped"
   ]
  },
  {
   "cell_type": "code",
   "execution_count": 93,
   "metadata": {},
   "outputs": [
    {
     "name": "stdout",
     "output_type": "stream",
     "text": [
      "(47927, 18965)\n"
     ]
    }
   ],
   "source": [
    "print(X_train_counts.shape)"
   ]
  },
  {
   "cell_type": "code",
   "execution_count": 6,
   "metadata": {},
   "outputs": [],
   "source": [
    "def logistic_regression(X_train, X_test, y_train, y_test):\n",
    "    clf = LogisticRegression().fit(X_train, y_train)\n",
    "    predicted_train = clf.predict(X_train)\n",
    "    predicted_test = clf.predict(X_test)\n",
    "    print(\"Logistic Regression Training accuracy: \",np.mean(predicted_train == y_train))\n",
    "    print(\"Logistic Regression Testing accuracy: \", np.mean(predicted_test == y_test))\n",
    "    print()"
   ]
  },
  {
   "cell_type": "code",
   "execution_count": 7,
   "metadata": {},
   "outputs": [],
   "source": [
    "def svm(X_train, X_test, y_train, y_test):\n",
    "    clf_svc = LinearSVC().fit(X_train,y_train)\n",
    "    svm_predicted_train = clf_svc.predict(X_train)\n",
    "    svm_predicted_test = clf_svc.predict(X_test)\n",
    "    print(\"SVM Training accuracy: \",np.mean(svm_predicted_train == y_train))\n",
    "    print(\"SVM Testing accuracy: \", np.mean(svm_predicted_test == y_test))\n",
    "    print()"
   ]
  },
  {
   "cell_type": "code",
   "execution_count": 8,
   "metadata": {},
   "outputs": [],
   "source": [
    "def naive_bayes(X_train, X_test, y_train, y_test):\n",
    "    clf = MultinomialNB().fit(X_train, y_train)\n",
    "    predicted_train = clf.predict(X_train)\n",
    "    predicted_test = clf.predict(X_test)\n",
    "    print(\"Naive Bayes Training accuracy: \",np.mean(predicted_train == y_train))\n",
    "    print(\"Naive Bayes Testing accuracy: \", np.mean(predicted_test == y_test))\n",
    "    print()"
   ]
  },
  {
   "cell_type": "code",
   "execution_count": 13,
   "metadata": {},
   "outputs": [],
   "source": [
    "def neural_network(X_train, X_test, y_train, y_test):\n",
    "    clf = MLPClassifier().fit(X_train, y_train)\n",
    "    predicted_train = clf.predict(X_train)\n",
    "    predicted_test = clf.predict(X_test)\n",
    "    print(\"Neural Network Training accuracy: \",np.mean(predicted_train == y_train))\n",
    "    print(\"Neural Network Testing accuracy: \", np.mean(predicted_test == y_test))\n",
    "    print()"
   ]
  },
  {
   "cell_type": "code",
   "execution_count": 14,
   "metadata": {},
   "outputs": [
    {
     "name": "stdout",
     "output_type": "stream",
     "text": [
      "Neural Network Training accuracy:  0.6570617814593027\n",
      "Neural Network Testing accuracy:  0.2457018861625772\n",
      "\n"
     ]
    },
    {
     "name": "stderr",
     "output_type": "stream",
     "text": [
      "C:\\Program Files\\Python36\\Lib\\site-packages\\sklearn\\neural_network\\multilayer_perceptron.py:566: UserWarning: Training interrupted by user.\n",
      "  warnings.warn(\"Training interrupted by user.\")\n"
     ]
    }
   ],
   "source": [
    "neural_network(lemma_X_train_tfidf,lemma_X_test_tfidf,y_train,y_test)"
   ]
  },
  {
   "cell_type": "code",
   "execution_count": 12,
   "metadata": {},
   "outputs": [
    {
     "name": "stdout",
     "output_type": "stream",
     "text": [
      "Using lemmatized tf-idf scores.\n",
      "Logistic Regression Training accuracy:  0.38072485237966075\n",
      "Logistic Regression Testing accuracy:  0.27800033383408446\n",
      "\n",
      "SVM Training accuracy:  0.5529451040123521\n",
      "SVM Testing accuracy:  0.2732431981305291\n",
      "\n",
      "Naive Bayes Training accuracy:  0.31441567383729424\n",
      "Naive Bayes Testing accuracy:  0.24954097813386747\n",
      "\n"
     ]
    },
    {
     "name": "stderr",
     "output_type": "stream",
     "text": [
      "C:\\Program Files\\Python36\\Lib\\site-packages\\sklearn\\neural_network\\multilayer_perceptron.py:566: UserWarning: Training interrupted by user.\n",
      "  warnings.warn(\"Training interrupted by user.\")\n"
     ]
    },
    {
     "ename": "NameError",
     "evalue": "name 'clf' is not defined",
     "output_type": "error",
     "traceback": [
      "\u001b[1;31m---------------------------------------------------------------------------\u001b[0m",
      "\u001b[1;31mNameError\u001b[0m                                 Traceback (most recent call last)",
      "\u001b[1;32m<ipython-input-12-f49d233155a0>\u001b[0m in \u001b[0;36m<module>\u001b[1;34m()\u001b[0m\n\u001b[0;32m     12\u001b[0m \u001b[0msvm\u001b[0m\u001b[1;33m(\u001b[0m\u001b[0mlemma_X_train_tfidf\u001b[0m\u001b[1;33m,\u001b[0m\u001b[0mlemma_X_test_tfidf\u001b[0m\u001b[1;33m,\u001b[0m\u001b[0my_train\u001b[0m\u001b[1;33m,\u001b[0m\u001b[0my_test\u001b[0m\u001b[1;33m)\u001b[0m\u001b[1;33m\u001b[0m\u001b[0m\n\u001b[0;32m     13\u001b[0m \u001b[0mnaive_bayes\u001b[0m\u001b[1;33m(\u001b[0m\u001b[0mlemma_X_train_tfidf\u001b[0m\u001b[1;33m,\u001b[0m\u001b[0mlemma_X_test_tfidf\u001b[0m\u001b[1;33m,\u001b[0m\u001b[0my_train\u001b[0m\u001b[1;33m,\u001b[0m\u001b[0my_test\u001b[0m\u001b[1;33m)\u001b[0m\u001b[1;33m\u001b[0m\u001b[0m\n\u001b[1;32m---> 14\u001b[1;33m \u001b[0mneural_network\u001b[0m\u001b[1;33m(\u001b[0m\u001b[0mlemma_X_train_tfidf\u001b[0m\u001b[1;33m,\u001b[0m\u001b[0mlemma_X_test_tfidf\u001b[0m\u001b[1;33m,\u001b[0m\u001b[0my_train\u001b[0m\u001b[1;33m,\u001b[0m\u001b[0my_test\u001b[0m\u001b[1;33m)\u001b[0m\u001b[1;33m\u001b[0m\u001b[0m\n\u001b[0m\u001b[0;32m     15\u001b[0m \u001b[1;33m\u001b[0m\u001b[0m\n\u001b[0;32m     16\u001b[0m \u001b[0mprint\u001b[0m\u001b[1;33m(\u001b[0m\u001b[1;34m\"Using lemmatized count scores.\"\u001b[0m\u001b[1;33m)\u001b[0m\u001b[1;33m\u001b[0m\u001b[0m\n",
      "\u001b[1;32m<ipython-input-11-4186d6301891>\u001b[0m in \u001b[0;36mneural_network\u001b[1;34m(X_train, X_test, y_train, y_test)\u001b[0m\n\u001b[0;32m      1\u001b[0m \u001b[1;32mdef\u001b[0m \u001b[0mneural_network\u001b[0m\u001b[1;33m(\u001b[0m\u001b[0mX_train\u001b[0m\u001b[1;33m,\u001b[0m \u001b[0mX_test\u001b[0m\u001b[1;33m,\u001b[0m \u001b[0my_train\u001b[0m\u001b[1;33m,\u001b[0m \u001b[0my_test\u001b[0m\u001b[1;33m)\u001b[0m\u001b[1;33m:\u001b[0m\u001b[1;33m\u001b[0m\u001b[0m\n\u001b[0;32m      2\u001b[0m     \u001b[0mclassifier\u001b[0m \u001b[1;33m=\u001b[0m \u001b[0mMLPClassifier\u001b[0m\u001b[1;33m(\u001b[0m\u001b[1;33m)\u001b[0m\u001b[1;33m.\u001b[0m\u001b[0mfit\u001b[0m\u001b[1;33m(\u001b[0m\u001b[0mX_train\u001b[0m\u001b[1;33m,\u001b[0m \u001b[0my_train\u001b[0m\u001b[1;33m)\u001b[0m\u001b[1;33m\u001b[0m\u001b[0m\n\u001b[1;32m----> 3\u001b[1;33m     \u001b[0mpredicted_train\u001b[0m \u001b[1;33m=\u001b[0m \u001b[0mclf\u001b[0m\u001b[1;33m.\u001b[0m\u001b[0mpredict\u001b[0m\u001b[1;33m(\u001b[0m\u001b[0mX_train\u001b[0m\u001b[1;33m)\u001b[0m\u001b[1;33m\u001b[0m\u001b[0m\n\u001b[0m\u001b[0;32m      4\u001b[0m     \u001b[0mpredicted_test\u001b[0m \u001b[1;33m=\u001b[0m \u001b[0mclf\u001b[0m\u001b[1;33m.\u001b[0m\u001b[0mpredict\u001b[0m\u001b[1;33m(\u001b[0m\u001b[0mX_test\u001b[0m\u001b[1;33m)\u001b[0m\u001b[1;33m\u001b[0m\u001b[0m\n\u001b[0;32m      5\u001b[0m     \u001b[0mprint\u001b[0m\u001b[1;33m(\u001b[0m\u001b[1;34m\"Neural Network Training accuracy: \"\u001b[0m\u001b[1;33m,\u001b[0m\u001b[0mnp\u001b[0m\u001b[1;33m.\u001b[0m\u001b[0mmean\u001b[0m\u001b[1;33m(\u001b[0m\u001b[0mpredicted_train\u001b[0m \u001b[1;33m==\u001b[0m \u001b[0my_train\u001b[0m\u001b[1;33m)\u001b[0m\u001b[1;33m)\u001b[0m\u001b[1;33m\u001b[0m\u001b[0m\n",
      "\u001b[1;31mNameError\u001b[0m: name 'clf' is not defined"
     ]
    }
   ],
   "source": [
    "# get raw count vectors using lemmatizer\n",
    "lemma_count_vect = CountVectorizer(tokenizer=LemmaTokenizer(),analyzer='word', token_pattern=r'\\w{1,}')\n",
    "lemma_X_train_counts =  lemma_count_vect.fit_transform(X_train)\n",
    "# get tf-idf vectors\n",
    "lemma_tfidf_transformer = TfidfTransformer()\n",
    "lemma_X_train_tfidf =  lemma_tfidf_transformer.fit_transform(lemma_X_train_counts)\n",
    "lemma_X_test_counts = lemma_count_vect.transform(X_test)\n",
    "lemma_X_test_tfidf = lemma_tfidf_transformer.transform(lemma_X_test_counts)\n",
    "\n",
    "print(\"Using lemmatized tf-idf scores.\")\n",
    "logistic_regression(lemma_X_train_tfidf,lemma_X_test_tfidf,y_train,y_test)\n",
    "svm(lemma_X_train_tfidf,lemma_X_test_tfidf,y_train,y_test)\n",
    "naive_bayes(lemma_X_train_tfidf,lemma_X_test_tfidf,y_train,y_test)\n",
    "neural_network(lemma_X_train_tfidf,lemma_X_test_tfidf,y_train,y_test)\n",
    "\n",
    "print(\"Using lemmatized count scores.\")\n",
    "logistic_regression(lemma_X_train_counts,lemma_X_test_counts,y_train,y_test)\n",
    "svm(lemma_X_train_counts,lemma_X_test_counts,y_train,y_test)\n",
    "naive_bayes(lemma_X_train_counts,lemma_X_test_counts,y_train,y_test)\n",
    "neural_network(lemma_X_train_counts,lemma_X_test_counts,y_train,y_test)"
   ]
  },
  {
   "cell_type": "code",
   "execution_count": 4,
   "metadata": {
    "collapsed": true
   },
   "outputs": [
    {
     "ename": "NameError",
     "evalue": "name 'X_train' is not defined",
     "output_type": "error",
     "traceback": [
      "\u001b[1;31m---------------------------------------------------------------------------\u001b[0m",
      "\u001b[1;31mNameError\u001b[0m                                 Traceback (most recent call last)",
      "\u001b[1;32m<ipython-input-4-815f3212e8f5>\u001b[0m in \u001b[0;36m<module>\u001b[1;34m()\u001b[0m\n\u001b[0;32m      1\u001b[0m \u001b[1;31m# get raw count vectors\u001b[0m\u001b[1;33m\u001b[0m\u001b[1;33m\u001b[0m\u001b[0m\n\u001b[0;32m      2\u001b[0m \u001b[0mcount_vect\u001b[0m \u001b[1;33m=\u001b[0m \u001b[0mCountVectorizer\u001b[0m\u001b[1;33m(\u001b[0m\u001b[0manalyzer\u001b[0m\u001b[1;33m=\u001b[0m\u001b[1;34m'word'\u001b[0m\u001b[1;33m,\u001b[0m \u001b[0mtoken_pattern\u001b[0m\u001b[1;33m=\u001b[0m\u001b[1;34mr'\\w{1,}'\u001b[0m\u001b[1;33m)\u001b[0m\u001b[1;33m\u001b[0m\u001b[0m\n\u001b[1;32m----> 3\u001b[1;33m \u001b[0mX_train_counts\u001b[0m \u001b[1;33m=\u001b[0m  \u001b[0mcount_vect\u001b[0m\u001b[1;33m.\u001b[0m\u001b[0mfit_transform\u001b[0m\u001b[1;33m(\u001b[0m\u001b[0mX_train\u001b[0m\u001b[1;33m)\u001b[0m\u001b[1;33m\u001b[0m\u001b[0m\n\u001b[0m\u001b[0;32m      4\u001b[0m \u001b[1;31m# get tf-idf vectors\u001b[0m\u001b[1;33m\u001b[0m\u001b[1;33m\u001b[0m\u001b[0m\n\u001b[0;32m      5\u001b[0m \u001b[0mtfidf_transformer\u001b[0m \u001b[1;33m=\u001b[0m \u001b[0mTfidfTransformer\u001b[0m\u001b[1;33m(\u001b[0m\u001b[1;33m)\u001b[0m\u001b[1;33m\u001b[0m\u001b[0m\n",
      "\u001b[1;31mNameError\u001b[0m: name 'X_train' is not defined"
     ]
    }
   ],
   "source": [
    "# get raw count vectors\n",
    "count_vect = CountVectorizer(analyzer='word', token_pattern=r'\\w{1,}')\n",
    "X_train_counts =  count_vect.fit_transform(X_train)\n",
    "# get tf-idf vectors\n",
    "tfidf_transformer = TfidfTransformer()\n",
    "X_train_tfidf =  tfidf_transformer.fit_transform(X_train_counts)\n",
    "X_test_counts = count_vect.transform(X_test)\n",
    "X_test_tfidf = tfidf_transformer.transform(X_test_counts)"
   ]
  },
  {
   "cell_type": "code",
   "execution_count": 8,
   "metadata": {},
   "outputs": [],
   "source": [
    "clf = MultinomialNB().fit(X_train_tfidf, y_train)"
   ]
  },
  {
   "cell_type": "code",
   "execution_count": 10,
   "metadata": {
    "scrolled": true
   },
   "outputs": [
    {
     "name": "stdout",
     "output_type": "stream",
     "text": [
      "Naive Bayes Training accuracy:  0.3185886869614205\n",
      "Naive Bayes Testing accuracy:  0.24261392088132197\n"
     ]
    }
   ],
   "source": [
    "nb_predicted_train = clf.predict(X_train_tfidf)\n",
    "nb_predicted_test = clf.predict(X_test_tfidf)\n",
    "print(\"Naive Bayes Training accuracy: \",np.mean(nb_predicted_train == y_train))\n",
    "print(\"Naive Bayes Testing accuracy: \", np.mean(nb_predicted_test == y_test))"
   ]
  },
  {
   "cell_type": "markdown",
   "metadata": {},
   "source": [
    "Next we will try using SVMs for classification. "
   ]
  },
  {
   "cell_type": "code",
   "execution_count": 11,
   "metadata": {},
   "outputs": [
    {
     "name": "stdout",
     "output_type": "stream",
     "text": [
      "Training accuracy:  0.5559914035929643\n",
      "Testing accuracy:  0.26322817559672845\n"
     ]
    }
   ],
   "source": [
    "clf_svc = LinearSVC().fit(X_train_tfidf,y_train)\n",
    "svm_predicted_train = clf_svc.predict(X_train_tfidf)\n",
    "svm_predicted_test = clf_svc.predict(X_test_tfidf)\n",
    "print(\"SVM Training accuracy: \",np.mean(svm_predicted_train == y_train))\n",
    "print(\"SVM Testing accuracy: \", np.mean(svm_predicted_test == y_test))"
   ]
  },
  {
   "cell_type": "markdown",
   "metadata": {},
   "source": [
    "What if we apply PCA before classification?"
   ]
  },
  {
   "cell_type": "code",
   "execution_count": 12,
   "metadata": {},
   "outputs": [
    {
     "name": "stdout",
     "output_type": "stream",
     "text": [
      "(47927, 500)\n"
     ]
    }
   ],
   "source": [
    "pca = decomposition.TruncatedSVD(n_components = 500)\n",
    "pca_X_train_tfidf = pca.fit_transform(X_train_tfidf)\n",
    "print(pca_X_train_tfidf.shape)\n",
    "pca_X_test_tfidf = pca.transform(X_test_tfidf)"
   ]
  },
  {
   "cell_type": "code",
   "execution_count": 14,
   "metadata": {},
   "outputs": [
    {
     "name": "stdout",
     "output_type": "stream",
     "text": [
      "SVM (Low Dim) Training accuracy:  0.2733532246958917\n",
      "SVM (Low Dim) Testing accuracy:  0.25321315306292774\n"
     ]
    }
   ],
   "source": [
    "clf_svc = LinearSVC().fit(pca_X_train_tfidf,y_train)\n",
    "svm_predicted_train = clf_svc.predict(pca_X_train_tfidf)\n",
    "svm_predicted_test = clf_svc.predict(pca_X_test_tfidf)\n",
    "print(\"SVM (Low Dim) Training accuracy: \",np.mean(svm_predicted_train == y_train))\n",
    "print(\"SVM (Low Dim) Testing accuracy: \", np.mean(svm_predicted_test == y_test))"
   ]
  },
  {
   "cell_type": "code",
   "execution_count": 8,
   "metadata": {},
   "outputs": [
    {
     "name": "stdout",
     "output_type": "stream",
     "text": [
      "Running Naive Bayes on  1 -gram raw count scores.\n",
      "Naive Bayes Training accuracy:  0.3904897030901162\n",
      "Naive Bayes Testing accuracy:  0.2563845768652979\n",
      "\n",
      "Running SVM on  1 -gram raw-count scores.\n",
      "SVM Training accuracy:  0.5785048093976256\n",
      "SVM Testing accuracy:  0.24219662827574695\n",
      "\n",
      "Running Naive Bayes on  1 -gram TF-IDF scores.\n",
      "Naive Bayes Training accuracy:  0.34268783775324974\n",
      "Naive Bayes Testing accuracy:  0.2457853446836922\n",
      "\n",
      "Running SVM on  1 -gram TF-IDF scores.\n",
      "SVM Training accuracy:  0.5487720908882259\n",
      "SVM Testing accuracy:  0.2469537639793023\n",
      "\n",
      "Running Naive Bayes on  2 -gram raw count scores.\n",
      "Naive Bayes Training accuracy:  0.5283660567112484\n",
      "Naive Bayes Testing accuracy:  0.2502921048239025\n",
      "\n",
      "Running SVM on  2 -gram raw-count scores.\n",
      "SVM Training accuracy:  0.8150311932731028\n",
      "SVM Testing accuracy:  0.23376731764313136\n",
      "\n",
      "Running Naive Bayes on  2 -gram TF-IDF scores.\n",
      "Naive Bayes Training accuracy:  0.40845452458947984\n",
      "Naive Bayes Testing accuracy:  0.24036054081121683\n",
      "\n",
      "Running SVM on  2 -gram TF-IDF scores.\n",
      "SVM Training accuracy:  0.8127360360548334\n",
      "SVM Testing accuracy:  0.2500417292605575\n",
      "\n",
      "Running Naive Bayes on  3 -gram raw count scores.\n",
      "Naive Bayes Training accuracy:  0.5951759968285101\n",
      "Naive Bayes Testing accuracy:  0.24778834919045234\n",
      "\n",
      "Running SVM on  3 -gram raw-count scores.\n",
      "SVM Training accuracy:  0.8207064911219146\n",
      "SVM Testing accuracy:  0.22542146553163078\n",
      "\n",
      "Running Naive Bayes on  3 -gram TF-IDF scores.\n",
      "Naive Bayes Training accuracy:  0.4398773134141507\n",
      "Naive Bayes Testing accuracy:  0.23960941412118178\n",
      "\n",
      "Running SVM on  3 -gram TF-IDF scores.\n",
      "SVM Training accuracy:  0.8200805391532956\n",
      "SVM Testing accuracy:  0.24687030545818728\n",
      "\n"
     ]
    }
   ],
   "source": [
    "# get raw count vectors\n",
    "errors = []\n",
    "ngrams = [1,2,3]\n",
    "for n in ngrams:\n",
    "    Ngram_count_vect = CountVectorizer(analyzer='word',stop_words=\"english\",ngram_range=(1,n))\n",
    "    Ngram_X_train_counts =  Ngram_count_vect.fit_transform(X_train)\n",
    "    Ngram_X_test_counts = Ngram_count_vect.transform(X_test)\n",
    "    \n",
    "     # fit NB model to N-gram raw counts\n",
    "    clf = MultinomialNB().fit(Ngram_X_train_counts, y_train)\n",
    "    \n",
    "    # run model on training and testing data using raw counts\n",
    "    Ngram_predicted_train = clf.predict(Ngram_X_train_counts)\n",
    "    Ngram_predicted_test = clf.predict(Ngram_X_test_counts)\n",
    "    print(\"Running Naive Bayes on \",n,\"-gram raw count scores.\")\n",
    "    print(\"Naive Bayes Training accuracy: \",np.mean(Ngram_predicted_train == y_train))\n",
    "    print(\"Naive Bayes Testing accuracy: \", np.mean(Ngram_predicted_test == y_test))\n",
    "    print()\n",
    "    errors.append([\"Naive Bayes \" + n + \" count vectors (train)\", np.mean(Ngram_predicted_train == y_train)])\n",
    "    errors.append([\"Naive Bayes \" + n + \" count vectors (test)\", np.mean(Ngram_predicted_test == y_test)])\n",
    "    \n",
    "    clf_svc = LinearSVC().fit(Ngram_X_train_counts,y_train)\n",
    "    svm_predicted_train = clf_svc.predict(Ngram_X_train_counts)\n",
    "    svm_predicted_test = clf_svc.predict(Ngram_X_test_counts)\n",
    "    print(\"Running SVM on \",n,\"-gram raw-count scores.\")\n",
    "    print(\"SVM Training accuracy: \",np.mean(svm_predicted_train == y_train))\n",
    "    print(\"SVM Testing accuracy: \", np.mean(svm_predicted_test == y_test))\n",
    "    print()\n",
    "    errors.append([\"SVM \" + n + \" count vectors (train)\", np.mean(svm_predicted_train == y_train)])\n",
    "    errors.append([\"SVM \" + n + \" count vectors (test)\", np.mean(svm_predicted_test == y_test)])\n",
    "    \n",
    "    # get tf-idf vectors\n",
    "    Ngram_tfidf_transformer = TfidfTransformer()\n",
    "    Ngram_X_train_tfidf =  Ngram_tfidf_transformer.fit_transform(Ngram_X_train_counts)\n",
    "    Ngram_X_test_tfidf = Ngram_tfidf_transformer.transform(Ngram_X_test_counts)\n",
    "\n",
    "    # fit model to N-gram tf-idfs\n",
    "    clf = MultinomialNB().fit(Ngram_X_train_tfidf, y_train)\n",
    "\n",
    "    # run model on training and testing data\n",
    "    Ngram_predicted_train = clf.predict(Ngram_X_train_tfidf)\n",
    "    Ngram_predicted_test = clf.predict(Ngram_X_test_tfidf)\n",
    "    print(\"Running Naive Bayes on \",n,\"-gram TF-IDF scores.\")\n",
    "    print(\"Naive Bayes Training accuracy: \",np.mean(Ngram_predicted_train == y_train))\n",
    "    print(\"Naive Bayes Testing accuracy: \", np.mean(Ngram_predicted_test == y_test))\n",
    "    print()\n",
    "    \n",
    "    clf_svc = LinearSVC().fit(Ngram_X_train_tfidf,y_train)\n",
    "    svm_predicted_train = clf_svc.predict(Ngram_X_train_tfidf)\n",
    "    svm_predicted_test = clf_svc.predict(Ngram_X_test_tfidf)\n",
    "    print(\"Running SVM on \",n,\"-gram TF-IDF scores.\")\n",
    "    print(\"SVM Training accuracy: \",np.mean(svm_predicted_train == y_train))\n",
    "    print(\"SVM Testing accuracy: \", np.mean(svm_predicted_test == y_test))\n",
    "    print()"
   ]
  },
  {
   "cell_type": "code",
   "execution_count": 12,
   "metadata": {},
   "outputs": [
    {
     "name": "stdout",
     "output_type": "stream",
     "text": [
      "Running Logistic Regression on  1 -gram raw count scores.\n",
      "Logistic Regression Training accuracy:  0.4786654704029044\n",
      "Logistic Regression Testing accuracy:  0.2655650141879486\n",
      "\n",
      "Running Logistic Regression on  1 -gram TF-IDF scores.\n",
      "Logistic Regression Training accuracy:  0.34268783775324974\n",
      "Logistic Regression Testing accuracy:  0.2457853446836922\n",
      "\n",
      "Running Logistic Regression on  2 -gram raw count scores.\n",
      "Logistic Regression Training accuracy:  0.7281699250944145\n",
      "Logistic Regression Testing accuracy:  0.26907027207477885\n",
      "\n",
      "Running Logistic Regression on  2 -gram TF-IDF scores.\n",
      "Logistic Regression Training accuracy:  0.40845452458947984\n",
      "Logistic Regression Testing accuracy:  0.24036054081121683\n",
      "\n",
      "Running Logistic Regression on  3 -gram raw count scores.\n",
      "Logistic Regression Training accuracy:  0.7548354789575813\n",
      "Logistic Regression Testing accuracy:  0.2697379402436989\n",
      "\n",
      "Running Logistic Regression on  3 -gram TF-IDF scores.\n",
      "Logistic Regression Training accuracy:  0.4398773134141507\n",
      "Logistic Regression Testing accuracy:  0.23960941412118178\n",
      "\n"
     ]
    }
   ],
   "source": [
    "ngrams = [1,2,3]\n",
    "for n in ngrams:\n",
    "    Ngram_count_vect = CountVectorizer(analyzer='word',stop_words=\"english\",ngram_range=(1,n))\n",
    "    Ngram_X_train_counts =  Ngram_count_vect.fit_transform(X_train)\n",
    "    Ngram_X_test_counts = Ngram_count_vect.transform(X_test)\n",
    "    \n",
    "     # fit NB model to N-gram raw counts\n",
    "    clf = LogisticRegression().fit(Ngram_X_train_counts, y_train)\n",
    "    \n",
    "    # run model on training and testing data using raw counts\n",
    "    Ngram_predicted_train = clf.predict(Ngram_X_train_counts)\n",
    "    Ngram_predicted_test = clf.predict(Ngram_X_test_counts)\n",
    "    print(\"Running Logistic Regression on \",n,\"-gram raw count scores.\")\n",
    "    print(\"Logistic Regression Training accuracy: \",np.mean(Ngram_predicted_train == y_train))\n",
    "    print(\"Logistic Regression Testing accuracy: \", np.mean(Ngram_predicted_test == y_test))\n",
    "    print()\n",
    "    \n",
    "    # get tf-idf vectors\n",
    "    Ngram_tfidf_transformer = TfidfTransformer()\n",
    "    Ngram_X_train_tfidf =  Ngram_tfidf_transformer.fit_transform(Ngram_X_train_counts)\n",
    "    Ngram_X_test_tfidf = Ngram_tfidf_transformer.transform(Ngram_X_test_counts)\n",
    "\n",
    "    # fit model to N-gram tf-idfs\n",
    "    clf = MultinomialNB().fit(Ngram_X_train_tfidf, y_train)\n",
    "\n",
    "    # run model on training and testing data\n",
    "    Ngram_predicted_train = clf.predict(Ngram_X_train_tfidf)\n",
    "    Ngram_predicted_test = clf.predict(Ngram_X_test_tfidf)\n",
    "    print(\"Running Logistic Regression on \",n,\"-gram TF-IDF scores.\")\n",
    "    print(\"Logistic Regression Training accuracy: \",np.mean(Ngram_predicted_train == y_train))\n",
    "    print(\"Logistic Regression Testing accuracy: \", np.mean(Ngram_predicted_test == y_test))\n",
    "    print()"
   ]
  },
  {
   "cell_type": "code",
   "execution_count": 77,
   "metadata": {},
   "outputs": [],
   "source": [
    "def accuracy(predicted, actual):\n",
    "    correct = 0\n",
    "    for p, a in zip(predicted, actual):\n",
    "        correct += 1 if p == a else 0\n",
    "    return 100 * correct / len(predicted)"
   ]
  },
  {
   "cell_type": "code",
   "execution_count": 120,
   "metadata": {},
   "outputs": [],
   "source": [
    "def get_count_matrix(corpus):\n",
    "    n = len(corpus)\n",
    "    print(n, \" documents in corpus.\")\n",
    "    all_words = []\n",
    "    for sent in corpus:\n",
    "        words = get_words(sent)\n",
    "        for word in words:\n",
    "            if word not in all_words:\n",
    "                all_words.append(word)\n",
    "    m = len(all_words)# number of words in corpus\n",
    "    print(m, \" words in corpus.\")\n",
    "    doc_count = np.zeros(m)\n",
    "    count_matrix = np.zeros((n,m))\n",
    "    for i in range(n):\n",
    "        sent_i = remove_special_chars(corpus[i].lower())\n",
    "        for j in range(m):\n",
    "            word_j = all_words[j]\n",
    "            if word_j in sent_i:\n",
    "                doc_count[j] += 1\n",
    "                for word in get_words(sent_i):\n",
    "                    if word == word_j:\n",
    "                        count_matrix[i][j] += 1\n",
    "    return count_matrix, all_words, doc_count"
   ]
  },
  {
   "cell_type": "code",
   "execution_count": 117,
   "metadata": {},
   "outputs": [],
   "source": [
    "def get_tfidf_matrix(corpus, count_matrix, doc_count):\n",
    "    n,m = count_matrix.shape\n",
    "    tfidf_matrix = np.zeros((n,m))\n",
    "    print(tfidf_matrix.shape)\n",
    "    print(count_matrix.shape)\n",
    "    for i in range(n):\n",
    "        for j in range(m):\n",
    "            tf = count_matrix[i][j] / sum(count_matrix[i][:])\n",
    "            idf = math.log(n / doc_count[j])\n",
    "            tfidf_matrix[i][j] = tf * idf\n",
    "    return tfidf_matrix"
   ]
  },
  {
   "cell_type": "code",
   "execution_count": 118,
   "metadata": {
    "collapsed": true
   },
   "outputs": [
    {
     "name": "stdout",
     "output_type": "stream",
     "text": [
      "12143  documents in corpus.\n"
     ]
    },
    {
     "name": "stderr",
     "output_type": "stream",
     "text": [
      "C:\\Program Files\\Python36\\Lib\\site-packages\\ipykernel_launcher.py:6: SettingWithCopyWarning: \n",
      "A value is trying to be set on a copy of a slice from a DataFrame\n",
      "\n",
      "See the caveats in the documentation: http://pandas.pydata.org/pandas-docs/stable/indexing.html#indexing-view-versus-copy\n",
      "  \n",
      "C:\\Program Files\\Python36\\Lib\\site-packages\\ipykernel_launcher.py:1: SettingWithCopyWarning: \n",
      "A value is trying to be set on a copy of a slice from a DataFrame\n",
      "\n",
      "See the caveats in the documentation: http://pandas.pydata.org/pandas-docs/stable/indexing.html#indexing-view-versus-copy\n",
      "  \"\"\"Entry point for launching an IPython kernel.\n"
     ]
    },
    {
     "ename": "KeyError",
     "evalue": "1",
     "output_type": "error",
     "traceback": [
      "\u001b[1;31m---------------------------------------------------------------------------\u001b[0m",
      "\u001b[1;31mKeyError\u001b[0m                                  Traceback (most recent call last)",
      "\u001b[1;32m<ipython-input-118-ad3c55116db0>\u001b[0m in \u001b[0;36m<module>\u001b[1;34m()\u001b[0m\n\u001b[1;32m----> 1\u001b[1;33m \u001b[0mcount_matrix\u001b[0m\u001b[1;33m,\u001b[0m \u001b[0mall_words\u001b[0m\u001b[1;33m,\u001b[0m \u001b[0mdoc_count\u001b[0m \u001b[1;33m=\u001b[0m \u001b[0mget_count_matrix\u001b[0m\u001b[1;33m(\u001b[0m\u001b[0mmichael\u001b[0m\u001b[1;33m[\u001b[0m\u001b[1;34m'line_text'\u001b[0m\u001b[1;33m]\u001b[0m\u001b[1;33m)\u001b[0m\u001b[1;33m\u001b[0m\u001b[0m\n\u001b[0m\u001b[0;32m      2\u001b[0m \u001b[0mtfidf_matrix\u001b[0m \u001b[1;33m=\u001b[0m \u001b[0mget_tfidf_matrix\u001b[0m\u001b[1;33m(\u001b[0m\u001b[0mmichael\u001b[0m\u001b[1;33m[\u001b[0m\u001b[1;34m'line_text'\u001b[0m\u001b[1;33m]\u001b[0m\u001b[1;33m,\u001b[0m \u001b[0mcount_matrix\u001b[0m\u001b[1;33m,\u001b[0m \u001b[0mdoc_count\u001b[0m\u001b[1;33m)\u001b[0m\u001b[1;33m\u001b[0m\u001b[0m\n",
      "\u001b[1;32m<ipython-input-116-da1df16578eb>\u001b[0m in \u001b[0;36mget_count_matrix\u001b[1;34m(corpus)\u001b[0m\n\u001b[0;32m      4\u001b[0m     \u001b[0mall_words\u001b[0m \u001b[1;33m=\u001b[0m \u001b[1;33m[\u001b[0m\u001b[1;33m]\u001b[0m\u001b[1;33m\u001b[0m\u001b[0m\n\u001b[0;32m      5\u001b[0m     \u001b[1;32mfor\u001b[0m \u001b[0mi\u001b[0m \u001b[1;32min\u001b[0m \u001b[0mrange\u001b[0m\u001b[1;33m(\u001b[0m\u001b[0mn\u001b[0m\u001b[1;33m)\u001b[0m\u001b[1;33m:\u001b[0m\u001b[1;33m\u001b[0m\u001b[0m\n\u001b[1;32m----> 6\u001b[1;33m         \u001b[0mcorpus\u001b[0m\u001b[1;33m[\u001b[0m\u001b[0mi\u001b[0m\u001b[1;33m]\u001b[0m \u001b[1;33m=\u001b[0m \u001b[0mremove_special_chars\u001b[0m\u001b[1;33m(\u001b[0m\u001b[0mcorpus\u001b[0m\u001b[1;33m[\u001b[0m\u001b[0mi\u001b[0m\u001b[1;33m]\u001b[0m\u001b[1;33m.\u001b[0m\u001b[0mlower\u001b[0m\u001b[1;33m(\u001b[0m\u001b[1;33m)\u001b[0m\u001b[1;33m)\u001b[0m\u001b[1;33m\u001b[0m\u001b[0m\n\u001b[0m\u001b[0;32m      7\u001b[0m         \u001b[0mwords\u001b[0m \u001b[1;33m=\u001b[0m \u001b[0mget_words\u001b[0m\u001b[1;33m(\u001b[0m\u001b[0mcorpus\u001b[0m\u001b[1;33m[\u001b[0m\u001b[0mi\u001b[0m\u001b[1;33m]\u001b[0m\u001b[1;33m)\u001b[0m\u001b[1;33m\u001b[0m\u001b[0m\n\u001b[0;32m      8\u001b[0m         \u001b[1;32mfor\u001b[0m \u001b[0mword\u001b[0m \u001b[1;32min\u001b[0m \u001b[0mwords\u001b[0m\u001b[1;33m:\u001b[0m\u001b[1;33m\u001b[0m\u001b[0m\n",
      "\u001b[1;32mC:\\Program Files\\Python36\\Lib\\site-packages\\pandas\\core\\series.py\u001b[0m in \u001b[0;36m__getitem__\u001b[1;34m(self, key)\u001b[0m\n\u001b[0;32m    764\u001b[0m         \u001b[0mkey\u001b[0m \u001b[1;33m=\u001b[0m \u001b[0mcom\u001b[0m\u001b[1;33m.\u001b[0m\u001b[0m_apply_if_callable\u001b[0m\u001b[1;33m(\u001b[0m\u001b[0mkey\u001b[0m\u001b[1;33m,\u001b[0m \u001b[0mself\u001b[0m\u001b[1;33m)\u001b[0m\u001b[1;33m\u001b[0m\u001b[0m\n\u001b[0;32m    765\u001b[0m         \u001b[1;32mtry\u001b[0m\u001b[1;33m:\u001b[0m\u001b[1;33m\u001b[0m\u001b[0m\n\u001b[1;32m--> 766\u001b[1;33m             \u001b[0mresult\u001b[0m \u001b[1;33m=\u001b[0m \u001b[0mself\u001b[0m\u001b[1;33m.\u001b[0m\u001b[0mindex\u001b[0m\u001b[1;33m.\u001b[0m\u001b[0mget_value\u001b[0m\u001b[1;33m(\u001b[0m\u001b[0mself\u001b[0m\u001b[1;33m,\u001b[0m \u001b[0mkey\u001b[0m\u001b[1;33m)\u001b[0m\u001b[1;33m\u001b[0m\u001b[0m\n\u001b[0m\u001b[0;32m    767\u001b[0m \u001b[1;33m\u001b[0m\u001b[0m\n\u001b[0;32m    768\u001b[0m             \u001b[1;32mif\u001b[0m \u001b[1;32mnot\u001b[0m \u001b[0mis_scalar\u001b[0m\u001b[1;33m(\u001b[0m\u001b[0mresult\u001b[0m\u001b[1;33m)\u001b[0m\u001b[1;33m:\u001b[0m\u001b[1;33m\u001b[0m\u001b[0m\n",
      "\u001b[1;32mC:\\Program Files\\Python36\\Lib\\site-packages\\pandas\\core\\indexes\\base.py\u001b[0m in \u001b[0;36mget_value\u001b[1;34m(self, series, key)\u001b[0m\n\u001b[0;32m   3101\u001b[0m         \u001b[1;32mtry\u001b[0m\u001b[1;33m:\u001b[0m\u001b[1;33m\u001b[0m\u001b[0m\n\u001b[0;32m   3102\u001b[0m             return self._engine.get_value(s, k,\n\u001b[1;32m-> 3103\u001b[1;33m                                           tz=getattr(series.dtype, 'tz', None))\n\u001b[0m\u001b[0;32m   3104\u001b[0m         \u001b[1;32mexcept\u001b[0m \u001b[0mKeyError\u001b[0m \u001b[1;32mas\u001b[0m \u001b[0me1\u001b[0m\u001b[1;33m:\u001b[0m\u001b[1;33m\u001b[0m\u001b[0m\n\u001b[0;32m   3105\u001b[0m             \u001b[1;32mif\u001b[0m \u001b[0mlen\u001b[0m\u001b[1;33m(\u001b[0m\u001b[0mself\u001b[0m\u001b[1;33m)\u001b[0m \u001b[1;33m>\u001b[0m \u001b[1;36m0\u001b[0m \u001b[1;32mand\u001b[0m \u001b[0mself\u001b[0m\u001b[1;33m.\u001b[0m\u001b[0minferred_type\u001b[0m \u001b[1;32min\u001b[0m \u001b[1;33m[\u001b[0m\u001b[1;34m'integer'\u001b[0m\u001b[1;33m,\u001b[0m \u001b[1;34m'boolean'\u001b[0m\u001b[1;33m]\u001b[0m\u001b[1;33m:\u001b[0m\u001b[1;33m\u001b[0m\u001b[0m\n",
      "\u001b[1;32mpandas\\_libs\\index.pyx\u001b[0m in \u001b[0;36mpandas._libs.index.IndexEngine.get_value\u001b[1;34m()\u001b[0m\n",
      "\u001b[1;32mpandas\\_libs\\index.pyx\u001b[0m in \u001b[0;36mpandas._libs.index.IndexEngine.get_value\u001b[1;34m()\u001b[0m\n",
      "\u001b[1;32mpandas\\_libs\\index.pyx\u001b[0m in \u001b[0;36mpandas._libs.index.IndexEngine.get_loc\u001b[1;34m()\u001b[0m\n",
      "\u001b[1;32mpandas\\_libs\\hashtable_class_helper.pxi\u001b[0m in \u001b[0;36mpandas._libs.hashtable.Int64HashTable.get_item\u001b[1;34m()\u001b[0m\n",
      "\u001b[1;32mpandas\\_libs\\hashtable_class_helper.pxi\u001b[0m in \u001b[0;36mpandas._libs.hashtable.Int64HashTable.get_item\u001b[1;34m()\u001b[0m\n",
      "\u001b[1;31mKeyError\u001b[0m: 1"
     ]
    }
   ],
   "source": [
    "count_matrix, all_words, doc_count = get_count_matrix(michael['line_text'])\n",
    "tfidf_matrix = get_tfidf_matrix(michael['line_text'], count_matrix, doc_count)"
   ]
  },
  {
   "cell_type": "code",
   "execution_count": 102,
   "metadata": {},
   "outputs": [],
   "source": [
    "write_matrix_to_file(count_matrix, all_words, \"count_matrix.csv\")\n",
    "write_matrix_to_file(tfidf_matrix, all_words, \"tfidf_matrix.csv\")"
   ]
  },
  {
   "cell_type": "code",
   "execution_count": 101,
   "metadata": {},
   "outputs": [],
   "source": [
    "def write_matrix_to_file(matrix, words, output):\n",
    "    header = \"\"\n",
    "    for i in range(len(words)-1):\n",
    "        header += words[i] + \",\"\n",
    "    header += all_words[len(words)-1]\n",
    "    np.savetxt(output, matrix, delimiter=\",\",fmt='%.4e',header=header,comments='')"
   ]
  }
 ],
 "metadata": {
  "kernelspec": {
   "display_name": "Python 3",
   "language": "python",
   "name": "python3"
  },
  "language_info": {
   "codemirror_mode": {
    "name": "ipython",
    "version": 3
   },
   "file_extension": ".py",
   "mimetype": "text/x-python",
   "name": "python",
   "nbconvert_exporter": "python",
   "pygments_lexer": "ipython3",
   "version": "3.6.2"
  }
 },
 "nbformat": 4,
 "nbformat_minor": 2
}
