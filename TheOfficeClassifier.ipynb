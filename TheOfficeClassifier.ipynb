{
 "cells": [
  {
   "cell_type": "code",
   "execution_count": 40,
   "metadata": {},
   "outputs": [
    {
     "name": "stderr",
     "output_type": "stream",
     "text": [
      "[nltk_data] Downloading package stopwords to\n",
      "[nltk_data]     C:\\Users\\Laura\\AppData\\Roaming\\nltk_data...\n",
      "[nltk_data]   Package stopwords is already up-to-date!\n",
      "[nltk_data] Downloading package wordnet to\n",
      "[nltk_data]     C:\\Users\\Laura\\AppData\\Roaming\\nltk_data...\n",
      "[nltk_data]   Package wordnet is already up-to-date!\n"
     ]
    }
   ],
   "source": [
    "import re\n",
    "import nltk\n",
    "from nltk.corpus import stopwords\n",
    "from nltk.tokenize import word_tokenize, sent_tokenize\n",
    "from nltk.stem import WordNetLemmatizer\n",
    "nltk.download('stopwords')  \n",
    "nltk.download('wordnet')  \n",
    "\n",
    "import math\n",
    "import matplotlib.pyplot as plt\n",
    "import pandas as pd\n",
    "import numpy as np\n",
    "\n",
    "from sklearn import decomposition\n",
    "from sklearn.feature_extraction.text import CountVectorizer, TfidfTransformer\n",
    "from sklearn.naive_bayes import MultinomialNB\n",
    "from sklearn.model_selection import train_test_split\n",
    "from sklearn.svm import LinearSVC\n",
    "from sklearn.linear_model import LogisticRegression\n",
    "from sklearn.neural_network import MLPClassifier\n",
    "from sklearn.preprocessing import StandardScaler"
   ]
  },
  {
   "cell_type": "code",
   "execution_count": 42,
   "metadata": {},
   "outputs": [],
   "source": [
    "lines = pd.read_csv(\"the-office-lines-simplified.csv\")\n",
    "michael = pd.read_csv(\"michael-not-michael.csv\")\n",
    "six_classes = pd.read_csv(\"6-classes.csv\")"
   ]
  },
  {
   "cell_type": "code",
   "execution_count": 4,
   "metadata": {},
   "outputs": [],
   "source": [
    "characters = {\n",
    "    \"Michael\":1,\"Dwight\":2,\"Jim\":3,\"Pam\":4,\"Andy\":5,\"Kevin\":6,\"Angela\":7,\n",
    "    \"Oscar\":8,\"Erin\":9,\"Ryan\":10,\"Darryl\":11,\"Phyllis\":12,\"Kelly\":13,\"Jan\":14,\"Toby\":15,\"Other\":16\n",
    "}"
   ]
  },
  {
   "cell_type": "code",
   "execution_count": 48,
   "metadata": {},
   "outputs": [],
   "source": [
    "characters6 = {\n",
    "    \"Michael\":1,\"Dwight\":2,\"Jim\":3,\"Pam\":4,\"Andy\":5,\"Other\":6\n",
    "}"
   ]
  },
  {
   "cell_type": "code",
   "execution_count": 56,
   "metadata": {},
   "outputs": [
    {
     "name": "stdout",
     "output_type": "stream",
     "text": [
      "6\n"
     ]
    },
    {
     "data": {
      "text/plain": [
       "Text(0.5,1,'Distribution of lines by character in \"The Office\"')"
      ]
     },
     "execution_count": 56,
     "metadata": {},
     "output_type": "execute_result"
    },
    {
     "data": {
      "image/png": "[encoded data removed]",
      "text/plain": [
       "<matplotlib.figure.Figure at 0x204807dc828>"
      ]
     },
     "metadata": {},
     "output_type": "display_data"
    }
   ],
   "source": [
    "n = len(characters6.keys())\n",
    "print(n)\n",
    "fig, ax = plt.subplots(1, 1)\n",
    "ax.hist(six_classes['speaker_id'], bins=n,rwidth=0.8)\n",
    "plt.xticks(np.arange(n),characters6.keys(),rotation=\"vertical\")\n",
    "plt.xlabel(\"Character\")\n",
    "plt.ylabel(\"Number of lines\")\n",
    "plt.title(\"Distribution of lines by character in \\\"The Office\\\"\")"
   ]
  },
  {
   "cell_type": "code",
   "execution_count": 6,
   "metadata": {},
   "outputs": [],
   "source": [
    "class LemmaTokenizer(object):\n",
    "    def __init__(self):\n",
    "        self.wnl = WordNetLemmatizer()\n",
    "    def __call__(self, articles):\n",
    "        return [self.wnl.lemmatize(t) for t in word_tokenize(articles)]"
   ]
  },
  {
   "cell_type": "code",
   "execution_count": 35,
   "metadata": {},
   "outputs": [],
   "source": [
    "def get_training_testing(data):\n",
    "    X_train, X_test, y_train, y_test = train_test_split(data['line_text'], data['speaker_id'], test_size=0.2)\n",
    "    print(X_train.shape, y_train.shape)\n",
    "    print(X_test.shape, y_test.shape)\n",
    "    return X_train, X_test, y_train, y_test"
   ]
  },
  {
   "cell_type": "code",
   "execution_count": 66,
   "metadata": {},
   "outputs": [
    {
     "name": "stdout",
     "output_type": "stream",
     "text": [
      "(47927,) (47927,)\n",
      "(11982,) (11982,)\n"
     ]
    }
   ],
   "source": [
    "# Generate training/testing splits\n",
    "X_train, X_test, y_train, y_test = get_training_testing(six_classes)"
   ]
  },
  {
   "cell_type": "code",
   "execution_count": 8,
   "metadata": {},
   "outputs": [],
   "source": [
    "def remove_special_chars(sent):\n",
    "    stripped = re.sub('[^\\w\\s]','',sent)\n",
    "    stripped = re.sub('_', ' ', stripped)\n",
    "    stripped = re.sub('\\s+', ' ', stripped)\n",
    "    stripped = stripped.strip()\n",
    "    return stripped"
   ]
  },
  {
   "cell_type": "code",
   "execution_count": 10,
   "metadata": {},
   "outputs": [],
   "source": [
    "def logistic_regression(X_train, X_test, y_train, y_test):\n",
    "    clf = LogisticRegression().fit(X_train, y_train)\n",
    "    predicted_train = clf.predict(X_train)\n",
    "    predicted_test = clf.predict(X_test)\n",
    "    print(\"Logistic Regression Training accuracy: \",np.mean(predicted_train == y_train))\n",
    "    print(\"Logistic Regression Testing accuracy: \", np.mean(predicted_test == y_test))\n",
    "    print()"
   ]
  },
  {
   "cell_type": "code",
   "execution_count": 11,
   "metadata": {},
   "outputs": [],
   "source": [
    "def svm(X_train, X_test, y_train, y_test):\n",
    "    clf_svc = LinearSVC().fit(X_train,y_train)\n",
    "    svm_predicted_train = clf_svc.predict(X_train)\n",
    "    svm_predicted_test = clf_svc.predict(X_test)\n",
    "    print(\"SVM Training accuracy: \",np.mean(svm_predicted_train == y_train))\n",
    "    print(\"SVM Testing accuracy: \", np.mean(svm_predicted_test == y_test))\n",
    "    print()"
   ]
  },
  {
   "cell_type": "code",
   "execution_count": 12,
   "metadata": {},
   "outputs": [],
   "source": [
    "def naive_bayes(X_train, X_test, y_train, y_test):\n",
    "    clf = MultinomialNB().fit(X_train, y_train)\n",
    "    predicted_train = clf.predict(X_train)\n",
    "    predicted_test = clf.predict(X_test)\n",
    "    print(\"Naive Bayes Training accuracy: \",np.mean(predicted_train == y_train))\n",
    "    print(\"Naive Bayes Testing accuracy: \", np.mean(predicted_test == y_test))\n",
    "    print()"
   ]
  },
  {
   "cell_type": "code",
   "execution_count": 13,
   "metadata": {},
   "outputs": [],
   "source": [
    "def neural_network(X_train, X_test, y_train, y_test):\n",
    "    clf = MLPClassifier().fit(X_train, y_train)\n",
    "    predicted_train = clf.predict(X_train)\n",
    "    predicted_test = clf.predict(X_test)\n",
    "    print(\"Neural Network Training accuracy: \",np.mean(predicted_train == y_train))\n",
    "    print(\"Neural Network Testing accuracy: \", np.mean(predicted_test == y_test))\n",
    "    print()"
   ]
  },
  {
   "cell_type": "code",
   "execution_count": null,
   "metadata": {},
   "outputs": [],
   "source": [
    "# get raw count vectors using lemmatizer\n",
    "lemma_count_vect = CountVectorizer(tokenizer=LemmaTokenizer(),analyzer='word', token_pattern=r'\\w{1,}')\n",
    "lemma_X_train_counts =  lemma_count_vect.fit_transform(X_train)\n",
    "# get tf-idf vectors\n",
    "lemma_tfidf_transformer = TfidfTransformer()\n",
    "lemma_X_train_tfidf =  lemma_tfidf_transformer.fit_transform(lemma_X_train_counts)\n",
    "\n",
    "lemma_X_test_counts = lemma_count_vect.transform(X_test)\n",
    "lemma_X_test_tfidf = lemma_tfidf_transformer.transform(lemma_X_test_counts)\n",
    "\n",
    "lemma_X_train_tfidf,lemma_X_test_tfidf = scale_data(lemma_X_train_tfidf,lemma_X_test_tfidf)\n",
    "lemma_X_train_counts,lemma_X_test_counts = scale_data(lemma_X_train_counts,lemma_X_test_counts)\n",
    "\n",
    "n_components = 100\n",
    "print(\"Reducing dimensionality of tfidf scores to n =\", n_components)\n",
    "lemma_X_train_tfidf,lemma_X_test_tfidf = apply_pca(lemma_X_train_tfidf,lemma_X_test_tfidf,n_components)\n",
    "\n",
    "n_components = 100\n",
    "print(\"Reducing dimensionality to count scores to n =\", n_components)\n",
    "lemma_X_train_counts,lemma_X_test_counts = apply_pca(lemma_X_train_counts,lemma_X_test_counts,n_components)"
   ]
  },
  {
   "cell_type": "code",
   "execution_count": null,
   "metadata": {},
   "outputs": [
    {
     "name": "stdout",
     "output_type": "stream",
     "text": [
      "Using lemmatized tf-idf scores.\n"
     ]
    },
    {
     "name": "stderr",
     "output_type": "stream",
     "text": [
      "C:\\Program Files\\Python36\\Lib\\site-packages\\sklearn\\neural_network\\multilayer_perceptron.py:566: UserWarning: Training interrupted by user.\n",
      "  warnings.warn(\"Training interrupted by user.\")\n"
     ]
    },
    {
     "name": "stdout",
     "output_type": "stream",
     "text": [
      "Neural Network Training accuracy:  0.4761616625284287\n",
      "Neural Network Testing accuracy:  0.4041061592388583\n",
      "\n",
      "Logistic Regression Training accuracy:  0.4199303106808271\n",
      "Logistic Regression Testing accuracy:  0.41086629944917374\n",
      "\n",
      "SVM Training accuracy:  0.41990944561520643\n",
      "SVM Testing accuracy:  0.4114505090969788\n",
      "\n",
      "Using lemmatized count scores.\n",
      "Neural Network Training accuracy:  0.8284682955327894\n",
      "Neural Network Testing accuracy:  0.38516107494575197\n",
      "\n"
     ]
    }
   ],
   "source": [
    "print(\"Using lemmatized tf-idf scores.\")\n",
    "neural_network(lemma_X_train_tfidf,lemma_X_test_tfidf,y_train,y_test)\n",
    "logistic_regression(lemma_X_train_tfidf,lemma_X_test_tfidf,y_train,y_test)\n",
    "svm(lemma_X_train_tfidf,lemma_X_test_tfidf,y_train,y_test)\n",
    "#naive_bayes(lemma_X_train_tfidf,lemma_X_test_tfidf,y_train,y_test)\n",
    "\n",
    "print(\"Using lemmatized count scores.\")\n",
    "neural_network(lemma_X_train_counts,lemma_X_test_counts,y_train,y_test)\n",
    "logistic_regression(lemma_X_train_counts,lemma_X_test_counts,y_train,y_test)\n",
    "svm(lemma_X_train_counts,lemma_X_test_counts,y_train,y_test)\n",
    "#naive_bayes(lemma_X_train_counts,lemma_X_test_counts,y_train,y_test)"
   ]
  },
  {
   "cell_type": "code",
   "execution_count": 31,
   "metadata": {},
   "outputs": [],
   "source": [
    "def scale_data(X_train, X_test):\n",
    "    scaler = StandardScaler(with_mean=False)\n",
    "    scaler.fit(X_train)\n",
    "    scaler.transform(X_train)\n",
    "    scaler.transform(X_test)\n",
    "    return X_train, X_test"
   ]
  },
  {
   "cell_type": "code",
   "execution_count": 37,
   "metadata": {},
   "outputs": [],
   "source": [
    "# get raw count vectors\n",
    "count_vect = CountVectorizer(analyzer='word', token_pattern=r'\\w{1,}')\n",
    "X_train_counts =  count_vect.fit_transform(X_train)\n",
    "# get tf-idf vectors\n",
    "tfidf_transformer = TfidfTransformer()\n",
    "X_train_tfidf =  tfidf_transformer.fit_transform(X_train_counts)\n",
    "X_test_counts = count_vect.transform(X_test)\n",
    "X_test_tfidf = tfidf_transformer.transform(X_test_counts)\n",
    "X_train_tfidf,X_test_tfidf = scale_data(X_train_tfidf,X_test_tfidf)"
   ]
  },
  {
   "cell_type": "code",
   "execution_count": 8,
   "metadata": {},
   "outputs": [],
   "source": [
    "clf = MultinomialNB().fit(X_train_tfidf, y_train)"
   ]
  },
  {
   "cell_type": "code",
   "execution_count": 10,
   "metadata": {
    "scrolled": true
   },
   "outputs": [
    {
     "name": "stdout",
     "output_type": "stream",
     "text": [
      "Naive Bayes Training accuracy:  0.3185886869614205\n",
      "Naive Bayes Testing accuracy:  0.24261392088132197\n"
     ]
    }
   ],
   "source": [
    "nb_predicted_train = clf.predict(X_train_tfidf)\n",
    "nb_predicted_test = clf.predict(X_test_tfidf)\n",
    "print(\"Naive Bayes Training accuracy: \",np.mean(nb_predicted_train == y_train))\n",
    "print(\"Naive Bayes Testing accuracy: \", np.mean(nb_predicted_test == y_test))"
   ]
  },
  {
   "cell_type": "markdown",
   "metadata": {},
   "source": [
    "Next we will try using SVMs for classification. "
   ]
  },
  {
   "cell_type": "code",
   "execution_count": 11,
   "metadata": {},
   "outputs": [
    {
     "name": "stdout",
     "output_type": "stream",
     "text": [
      "Training accuracy:  0.5559914035929643\n",
      "Testing accuracy:  0.26322817559672845\n"
     ]
    }
   ],
   "source": [
    "clf_svc = LinearSVC().fit(X_train_tfidf,y_train)\n",
    "svm_predicted_train = clf_svc.predict(X_train_tfidf)\n",
    "svm_predicted_test = clf_svc.predict(X_test_tfidf)\n",
    "print(\"SVM Training accuracy: \",np.mean(svm_predicted_train == y_train))\n",
    "print(\"SVM Testing accuracy: \", np.mean(svm_predicted_test == y_test))"
   ]
  },
  {
   "cell_type": "markdown",
   "metadata": {},
   "source": [
    "What if we apply PCA before classification?"
   ]
  },
  {
   "cell_type": "code",
   "execution_count": 62,
   "metadata": {},
   "outputs": [],
   "source": [
    "def apply_pca(X_train, X_test, n_components=100):\n",
    "    pca = decomposition.TruncatedSVD(n_components = 100)\n",
    "    pca_X_train = pca.fit_transform(X_train)\n",
    "    pca_X_test = pca.transform(X_test)\n",
    "    return pca_X_train, pca_X_test"
   ]
  },
  {
   "cell_type": "code",
   "execution_count": 14,
   "metadata": {},
   "outputs": [
    {
     "name": "stdout",
     "output_type": "stream",
     "text": [
      "SVM (Low Dim) Training accuracy:  0.2733532246958917\n",
      "SVM (Low Dim) Testing accuracy:  0.25321315306292774\n"
     ]
    }
   ],
   "source": [
    "clf_svc = LinearSVC().fit(pca_X_train_tfidf,y_train)\n",
    "svm_predicted_train = clf_svc.predict(pca_X_train_tfidf)\n",
    "svm_predicted_test = clf_svc.predict(pca_X_test_tfidf)\n",
    "print(\"SVM (Low Dim) Training accuracy: \",np.mean(svm_predicted_train == y_train))\n",
    "print(\"SVM (Low Dim) Testing accuracy: \", np.mean(svm_predicted_test == y_test))"
   ]
  },
  {
   "cell_type": "code",
   "execution_count": 38,
   "metadata": {},
   "outputs": [
    {
     "name": "stdout",
     "output_type": "stream",
     "text": [
      "Running Naive Bayes on  1 -gram raw count scores.\n",
      "Naive Bayes Training accuracy:  0.8414255012832015\n",
      "Naive Bayes Testing accuracy:  0.7860958103822401\n",
      "\n"
     ]
    },
    {
     "ename": "TypeError",
     "evalue": "must be str, not int",
     "output_type": "error",
     "traceback": [
      "\u001b[1;31m---------------------------------------------------------------------------\u001b[0m",
      "\u001b[1;31mTypeError\u001b[0m                                 Traceback (most recent call last)",
      "\u001b[1;32m<ipython-input-38-9e7499bd367e>\u001b[0m in \u001b[0;36m<module>\u001b[1;34m()\u001b[0m\n\u001b[0;32m     17\u001b[0m     \u001b[0mprint\u001b[0m\u001b[1;33m(\u001b[0m\u001b[1;34m\"Naive Bayes Testing accuracy: \"\u001b[0m\u001b[1;33m,\u001b[0m \u001b[0mnp\u001b[0m\u001b[1;33m.\u001b[0m\u001b[0mmean\u001b[0m\u001b[1;33m(\u001b[0m\u001b[0mNgram_predicted_test\u001b[0m \u001b[1;33m==\u001b[0m \u001b[0my_test\u001b[0m\u001b[1;33m)\u001b[0m\u001b[1;33m)\u001b[0m\u001b[1;33m\u001b[0m\u001b[0m\n\u001b[0;32m     18\u001b[0m     \u001b[0mprint\u001b[0m\u001b[1;33m(\u001b[0m\u001b[1;33m)\u001b[0m\u001b[1;33m\u001b[0m\u001b[0m\n\u001b[1;32m---> 19\u001b[1;33m     \u001b[0merrors\u001b[0m\u001b[1;33m.\u001b[0m\u001b[0mappend\u001b[0m\u001b[1;33m(\u001b[0m\u001b[1;33m[\u001b[0m\u001b[1;34m\"Naive Bayes \"\u001b[0m \u001b[1;33m+\u001b[0m \u001b[0mn\u001b[0m \u001b[1;33m+\u001b[0m \u001b[1;34m\" count vectors (train)\"\u001b[0m\u001b[1;33m,\u001b[0m \u001b[0mnp\u001b[0m\u001b[1;33m.\u001b[0m\u001b[0mmean\u001b[0m\u001b[1;33m(\u001b[0m\u001b[0mNgram_predicted_train\u001b[0m \u001b[1;33m==\u001b[0m \u001b[0my_train\u001b[0m\u001b[1;33m)\u001b[0m\u001b[1;33m]\u001b[0m\u001b[1;33m)\u001b[0m\u001b[1;33m\u001b[0m\u001b[0m\n\u001b[0m\u001b[0;32m     20\u001b[0m     \u001b[0merrors\u001b[0m\u001b[1;33m.\u001b[0m\u001b[0mappend\u001b[0m\u001b[1;33m(\u001b[0m\u001b[1;33m[\u001b[0m\u001b[1;34m\"Naive Bayes \"\u001b[0m \u001b[1;33m+\u001b[0m \u001b[0mn\u001b[0m \u001b[1;33m+\u001b[0m \u001b[1;34m\" count vectors (test)\"\u001b[0m\u001b[1;33m,\u001b[0m \u001b[0mnp\u001b[0m\u001b[1;33m.\u001b[0m\u001b[0mmean\u001b[0m\u001b[1;33m(\u001b[0m\u001b[0mNgram_predicted_test\u001b[0m \u001b[1;33m==\u001b[0m \u001b[0my_test\u001b[0m\u001b[1;33m)\u001b[0m\u001b[1;33m]\u001b[0m\u001b[1;33m)\u001b[0m\u001b[1;33m\u001b[0m\u001b[0m\n\u001b[0;32m     21\u001b[0m \u001b[1;33m\u001b[0m\u001b[0m\n",
      "\u001b[1;31mTypeError\u001b[0m: must be str, not int"
     ]
    }
   ],
   "source": [
    "# get raw count vectors\n",
    "errors = []\n",
    "ngrams = [1,2,3]\n",
    "for n in ngrams:\n",
    "    Ngram_count_vect = CountVectorizer(analyzer='word',stop_words=\"english\",ngram_range=(1,n))\n",
    "    Ngram_X_train_counts =  Ngram_count_vect.fit_transform(X_train)\n",
    "    Ngram_X_test_counts = Ngram_count_vect.transform(X_test)\n",
    "    \n",
    "    neural_network(X_test_tfidf,X_test_tfidf,y_test,y_test)\n",
    "     # fit NB model to N-gram raw counts\n",
    "    clf = MultinomialNB().fit(Ngram_X_train_counts, y_train)\n",
    "    \n",
    "    # run model on training and testing data using raw counts\n",
    "    Ngram_predicted_train = clf.predict(Ngram_X_train_counts)\n",
    "    Ngram_predicted_test = clf.predict(Ngram_X_test_counts)\n",
    "    print(\"Running Naive Bayes on \",n,\"-gram raw count scores.\")\n",
    "    print(\"Naive Bayes Training accuracy: \",np.mean(Ngram_predicted_train == y_train))\n",
    "    print(\"Naive Bayes Testing accuracy: \", np.mean(Ngram_predicted_test == y_test))\n",
    "    print()\n",
    "    errors.append([\"Naive Bayes \" + n + \" count vectors (train)\", np.mean(Ngram_predicted_train == y_train)])\n",
    "    errors.append([\"Naive Bayes \" + n + \" count vectors (test)\", np.mean(Ngram_predicted_test == y_test)])\n",
    "    \n",
    "    clf_svc = LinearSVC().fit(Ngram_X_train_counts,y_train)\n",
    "    svm_predicted_train = clf_svc.predict(Ngram_X_train_counts)\n",
    "    svm_predicted_test = clf_svc.predict(Ngram_X_test_counts)\n",
    "    print(\"Running SVM on \",n,\"-gram raw-count scores.\")\n",
    "    print(\"SVM Training accuracy: \",np.mean(svm_predicted_train == y_train))\n",
    "    print(\"SVM Testing accuracy: \", np.mean(svm_predicted_test == y_test))\n",
    "    print()\n",
    "    errors.append([\"SVM \" + n + \" count vectors (train)\", np.mean(svm_predicted_train == y_train)])\n",
    "    errors.append([\"SVM \" + n + \" count vectors (test)\", np.mean(svm_predicted_test == y_test)])\n",
    "    \n",
    "    # get tf-idf vectors\n",
    "    Ngram_tfidf_transformer = TfidfTransformer()\n",
    "    Ngram_X_train_tfidf =  Ngram_tfidf_transformer.fit_transform(Ngram_X_train_counts)\n",
    "    Ngram_X_test_tfidf = Ngram_tfidf_transformer.transform(Ngram_X_test_counts)\n",
    "\n",
    "    # fit model to N-gram tf-idfs\n",
    "    clf = MultinomialNB().fit(Ngram_X_train_tfidf, y_train)\n",
    "\n",
    "    # run model on training and testing data\n",
    "    Ngram_predicted_train = clf.predict(Ngram_X_train_tfidf)\n",
    "    Ngram_predicted_test = clf.predict(Ngram_X_test_tfidf)\n",
    "    print(\"Running Naive Bayes on \",n,\"-gram TF-IDF scores.\")\n",
    "    print(\"Naive Bayes Training accuracy: \",np.mean(Ngram_predicted_train == y_train))\n",
    "    print(\"Naive Bayes Testing accuracy: \", np.mean(Ngram_predicted_test == y_test))\n",
    "    print()\n",
    "    \n",
    "    clf_svc = LinearSVC().fit(Ngram_X_train_tfidf,y_train)\n",
    "    svm_predicted_train = clf_svc.predict(Ngram_X_train_tfidf)\n",
    "    svm_predicted_test = clf_svc.predict(Ngram_X_test_tfidf)\n",
    "    print(\"Running SVM on \",n,\"-gram TF-IDF scores.\")\n",
    "    print(\"SVM Training accuracy: \",np.mean(svm_predicted_train == y_train))\n",
    "    print(\"SVM Testing accuracy: \", np.mean(svm_predicted_test == y_test))\n",
    "    print()"
   ]
  },
  {
   "cell_type": "code",
   "execution_count": 39,
   "metadata": {},
   "outputs": [
    {
     "name": "stdout",
     "output_type": "stream",
     "text": [
      "Running Logistic Regression on  1 -gram raw count scores.\n",
      "Logistic Regression Training accuracy:  0.8448265069793645\n",
      "Logistic Regression Testing accuracy:  0.7958604573526957\n",
      "\n",
      "Running Logistic Regression on  1 -gram TF-IDF scores.\n",
      "Logistic Regression Training accuracy:  0.8061218102530933\n",
      "Logistic Regression Testing accuracy:  0.7905191120013353\n",
      "\n",
      "Running Logistic Regression on  2 -gram raw count scores.\n",
      "Logistic Regression Training accuracy:  0.9096125357314249\n",
      "Logistic Regression Testing accuracy:  0.7981972959439159\n",
      "\n",
      "Running Logistic Regression on  2 -gram TF-IDF scores.\n",
      "Logistic Regression Training accuracy:  0.7995910447138356\n",
      "Logistic Regression Testing accuracy:  0.7912702386913704\n",
      "\n",
      "Running Logistic Regression on  3 -gram raw count scores.\n",
      "Logistic Regression Training accuracy:  0.9230079078598702\n",
      "Logistic Regression Testing accuracy:  0.801118344182941\n",
      "\n",
      "Running Logistic Regression on  3 -gram TF-IDF scores.\n",
      "Logistic Regression Training accuracy:  0.7990902831389405\n",
      "Logistic Regression Testing accuracy:  0.7912702386913704\n",
      "\n"
     ]
    }
   ],
   "source": [
    "ngrams = [1,2,3]\n",
    "for n in ngrams:\n",
    "    Ngram_count_vect = CountVectorizer(analyzer='word',stop_words=\"english\",ngram_range=(1,n))\n",
    "    Ngram_X_train_counts =  Ngram_count_vect.fit_transform(X_train)\n",
    "    Ngram_X_test_counts = Ngram_count_vect.transform(X_test)\n",
    "    \n",
    "     # fit NB model to N-gram raw counts\n",
    "    clf = LogisticRegression().fit(Ngram_X_train_counts, y_train)\n",
    "    \n",
    "    # run model on training and testing data using raw counts\n",
    "    Ngram_predicted_train = clf.predict(Ngram_X_train_counts)\n",
    "    Ngram_predicted_test = clf.predict(Ngram_X_test_counts)\n",
    "    print(\"Running Logistic Regression on \",n,\"-gram raw count scores.\")\n",
    "    print(\"Logistic Regression Training accuracy: \",np.mean(Ngram_predicted_train == y_train))\n",
    "    print(\"Logistic Regression Testing accuracy: \", np.mean(Ngram_predicted_test == y_test))\n",
    "    print()\n",
    "    \n",
    "    # get tf-idf vectors\n",
    "    Ngram_tfidf_transformer = TfidfTransformer()\n",
    "    Ngram_X_train_tfidf =  Ngram_tfidf_transformer.fit_transform(Ngram_X_train_counts)\n",
    "    Ngram_X_test_tfidf = Ngram_tfidf_transformer.transform(Ngram_X_test_counts)\n",
    "\n",
    "    # fit model to N-gram tf-idfs\n",
    "    clf = MultinomialNB().fit(Ngram_X_train_tfidf, y_train)\n",
    "\n",
    "    # run model on training and testing data\n",
    "    Ngram_predicted_train = clf.predict(Ngram_X_train_tfidf)\n",
    "    Ngram_predicted_test = clf.predict(Ngram_X_test_tfidf)\n",
    "    print(\"Running Logistic Regression on \",n,\"-gram TF-IDF scores.\")\n",
    "    print(\"Logistic Regression Training accuracy: \",np.mean(Ngram_predicted_train == y_train))\n",
    "    print(\"Logistic Regression Testing accuracy: \", np.mean(Ngram_predicted_test == y_test))\n",
    "    print()"
   ]
  },
  {
   "cell_type": "code",
   "execution_count": 77,
   "metadata": {},
   "outputs": [],
   "source": [
    "def accuracy(predicted, actual):\n",
    "    correct = 0\n",
    "    for p, a in zip(predicted, actual):\n",
    "        correct += 1 if p == a else 0\n",
    "    return 100 * correct / len(predicted)"
   ]
  },
  {
   "cell_type": "code",
   "execution_count": 120,
   "metadata": {},
   "outputs": [],
   "source": [
    "def get_count_matrix(corpus):\n",
    "    n = len(corpus)\n",
    "    print(n, \" documents in corpus.\")\n",
    "    all_words = []\n",
    "    for sent in corpus:\n",
    "        words = get_words(sent)\n",
    "        for word in words:\n",
    "            if word not in all_words:\n",
    "                all_words.append(word)\n",
    "    m = len(all_words)# number of words in corpus\n",
    "    print(m, \" words in corpus.\")\n",
    "    doc_count = np.zeros(m)\n",
    "    count_matrix = np.zeros((n,m))\n",
    "    for i in range(n):\n",
    "        sent_i = remove_special_chars(corpus[i].lower())\n",
    "        for j in range(m):\n",
    "            word_j = all_words[j]\n",
    "            if word_j in sent_i:\n",
    "                doc_count[j] += 1\n",
    "                for word in get_words(sent_i):\n",
    "                    if word == word_j:\n",
    "                        count_matrix[i][j] += 1\n",
    "    return count_matrix, all_words, doc_count"
   ]
  },
  {
   "cell_type": "code",
   "execution_count": 117,
   "metadata": {},
   "outputs": [],
   "source": [
    "def get_tfidf_matrix(corpus, count_matrix, doc_count):\n",
    "    n,m = count_matrix.shape\n",
    "    tfidf_matrix = np.zeros((n,m))\n",
    "    print(tfidf_matrix.shape)\n",
    "    print(count_matrix.shape)\n",
    "    for i in range(n):\n",
    "        for j in range(m):\n",
    "            tf = count_matrix[i][j] / sum(count_matrix[i][:])\n",
    "            idf = math.log(n / doc_count[j])\n",
    "            tfidf_matrix[i][j] = tf * idf\n",
    "    return tfidf_matrix"
   ]
  },
  {
   "cell_type": "code",
   "execution_count": 118,
   "metadata": {
    "collapsed": true
   },
   "outputs": [
    {
     "name": "stdout",
     "output_type": "stream",
     "text": [
      "12143  documents in corpus.\n"
     ]
    },
    {
     "name": "stderr",
     "output_type": "stream",
     "text": [
      "C:\\Program Files\\Python36\\Lib\\site-packages\\ipykernel_launcher.py:6: SettingWithCopyWarning: \n",
      "A value is trying to be set on a copy of a slice from a DataFrame\n",
      "\n",
      "See the caveats in the documentation: http://pandas.pydata.org/pandas-docs/stable/indexing.html#indexing-view-versus-copy\n",
      "  \n",
      "C:\\Program Files\\Python36\\Lib\\site-packages\\ipykernel_launcher.py:1: SettingWithCopyWarning: \n",
      "A value is trying to be set on a copy of a slice from a DataFrame\n",
      "\n",
      "See the caveats in the documentation: http://pandas.pydata.org/pandas-docs/stable/indexing.html#indexing-view-versus-copy\n",
      "  \"\"\"Entry point for launching an IPython kernel.\n"
     ]
    },
    {
     "ename": "KeyError",
     "evalue": "1",
     "output_type": "error",
     "traceback": [
      "\u001b[1;31m---------------------------------------------------------------------------\u001b[0m",
      "\u001b[1;31mKeyError\u001b[0m                                  Traceback (most recent call last)",
      "\u001b[1;32m<ipython-input-118-ad3c55116db0>\u001b[0m in \u001b[0;36m<module>\u001b[1;34m()\u001b[0m\n\u001b[1;32m----> 1\u001b[1;33m \u001b[0mcount_matrix\u001b[0m\u001b[1;33m,\u001b[0m \u001b[0mall_words\u001b[0m\u001b[1;33m,\u001b[0m \u001b[0mdoc_count\u001b[0m \u001b[1;33m=\u001b[0m \u001b[0mget_count_matrix\u001b[0m\u001b[1;33m(\u001b[0m\u001b[0mmichael\u001b[0m\u001b[1;33m[\u001b[0m\u001b[1;34m'line_text'\u001b[0m\u001b[1;33m]\u001b[0m\u001b[1;33m)\u001b[0m\u001b[1;33m\u001b[0m\u001b[0m\n\u001b[0m\u001b[0;32m      2\u001b[0m \u001b[0mtfidf_matrix\u001b[0m \u001b[1;33m=\u001b[0m \u001b[0mget_tfidf_matrix\u001b[0m\u001b[1;33m(\u001b[0m\u001b[0mmichael\u001b[0m\u001b[1;33m[\u001b[0m\u001b[1;34m'line_text'\u001b[0m\u001b[1;33m]\u001b[0m\u001b[1;33m,\u001b[0m \u001b[0mcount_matrix\u001b[0m\u001b[1;33m,\u001b[0m \u001b[0mdoc_count\u001b[0m\u001b[1;33m)\u001b[0m\u001b[1;33m\u001b[0m\u001b[0m\n",
      "\u001b[1;32m<ipython-input-116-da1df16578eb>\u001b[0m in \u001b[0;36mget_count_matrix\u001b[1;34m(corpus)\u001b[0m\n\u001b[0;32m      4\u001b[0m     \u001b[0mall_words\u001b[0m \u001b[1;33m=\u001b[0m \u001b[1;33m[\u001b[0m\u001b[1;33m]\u001b[0m\u001b[1;33m\u001b[0m\u001b[0m\n\u001b[0;32m      5\u001b[0m     \u001b[1;32mfor\u001b[0m \u001b[0mi\u001b[0m \u001b[1;32min\u001b[0m \u001b[0mrange\u001b[0m\u001b[1;33m(\u001b[0m\u001b[0mn\u001b[0m\u001b[1;33m)\u001b[0m\u001b[1;33m:\u001b[0m\u001b[1;33m\u001b[0m\u001b[0m\n\u001b[1;32m----> 6\u001b[1;33m         \u001b[0mcorpus\u001b[0m\u001b[1;33m[\u001b[0m\u001b[0mi\u001b[0m\u001b[1;33m]\u001b[0m \u001b[1;33m=\u001b[0m \u001b[0mremove_special_chars\u001b[0m\u001b[1;33m(\u001b[0m\u001b[0mcorpus\u001b[0m\u001b[1;33m[\u001b[0m\u001b[0mi\u001b[0m\u001b[1;33m]\u001b[0m\u001b[1;33m.\u001b[0m\u001b[0mlower\u001b[0m\u001b[1;33m(\u001b[0m\u001b[1;33m)\u001b[0m\u001b[1;33m)\u001b[0m\u001b[1;33m\u001b[0m\u001b[0m\n\u001b[0m\u001b[0;32m      7\u001b[0m         \u001b[0mwords\u001b[0m \u001b[1;33m=\u001b[0m \u001b[0mget_words\u001b[0m\u001b[1;33m(\u001b[0m\u001b[0mcorpus\u001b[0m\u001b[1;33m[\u001b[0m\u001b[0mi\u001b[0m\u001b[1;33m]\u001b[0m\u001b[1;33m)\u001b[0m\u001b[1;33m\u001b[0m\u001b[0m\n\u001b[0;32m      8\u001b[0m         \u001b[1;32mfor\u001b[0m \u001b[0mword\u001b[0m \u001b[1;32min\u001b[0m \u001b[0mwords\u001b[0m\u001b[1;33m:\u001b[0m\u001b[1;33m\u001b[0m\u001b[0m\n",
      "\u001b[1;32mC:\\Program Files\\Python36\\Lib\\site-packages\\pandas\\core\\series.py\u001b[0m in \u001b[0;36m__getitem__\u001b[1;34m(self, key)\u001b[0m\n\u001b[0;32m    764\u001b[0m         \u001b[0mkey\u001b[0m \u001b[1;33m=\u001b[0m \u001b[0mcom\u001b[0m\u001b[1;33m.\u001b[0m\u001b[0m_apply_if_callable\u001b[0m\u001b[1;33m(\u001b[0m\u001b[0mkey\u001b[0m\u001b[1;33m,\u001b[0m \u001b[0mself\u001b[0m\u001b[1;33m)\u001b[0m\u001b[1;33m\u001b[0m\u001b[0m\n\u001b[0;32m    765\u001b[0m         \u001b[1;32mtry\u001b[0m\u001b[1;33m:\u001b[0m\u001b[1;33m\u001b[0m\u001b[0m\n\u001b[1;32m--> 766\u001b[1;33m             \u001b[0mresult\u001b[0m \u001b[1;33m=\u001b[0m \u001b[0mself\u001b[0m\u001b[1;33m.\u001b[0m\u001b[0mindex\u001b[0m\u001b[1;33m.\u001b[0m\u001b[0mget_value\u001b[0m\u001b[1;33m(\u001b[0m\u001b[0mself\u001b[0m\u001b[1;33m,\u001b[0m \u001b[0mkey\u001b[0m\u001b[1;33m)\u001b[0m\u001b[1;33m\u001b[0m\u001b[0m\n\u001b[0m\u001b[0;32m    767\u001b[0m \u001b[1;33m\u001b[0m\u001b[0m\n\u001b[0;32m    768\u001b[0m             \u001b[1;32mif\u001b[0m \u001b[1;32mnot\u001b[0m \u001b[0mis_scalar\u001b[0m\u001b[1;33m(\u001b[0m\u001b[0mresult\u001b[0m\u001b[1;33m)\u001b[0m\u001b[1;33m:\u001b[0m\u001b[1;33m\u001b[0m\u001b[0m\n",
      "\u001b[1;32mC:\\Program Files\\Python36\\Lib\\site-packages\\pandas\\core\\indexes\\base.py\u001b[0m in \u001b[0;36mget_value\u001b[1;34m(self, series, key)\u001b[0m\n\u001b[0;32m   3101\u001b[0m         \u001b[1;32mtry\u001b[0m\u001b[1;33m:\u001b[0m\u001b[1;33m\u001b[0m\u001b[0m\n\u001b[0;32m   3102\u001b[0m             return self._engine.get_value(s, k,\n\u001b[1;32m-> 3103\u001b[1;33m                                           tz=getattr(series.dtype, 'tz', None))\n\u001b[0m\u001b[0;32m   3104\u001b[0m         \u001b[1;32mexcept\u001b[0m \u001b[0mKeyError\u001b[0m \u001b[1;32mas\u001b[0m \u001b[0me1\u001b[0m\u001b[1;33m:\u001b[0m\u001b[1;33m\u001b[0m\u001b[0m\n\u001b[0;32m   3105\u001b[0m             \u001b[1;32mif\u001b[0m \u001b[0mlen\u001b[0m\u001b[1;33m(\u001b[0m\u001b[0mself\u001b[0m\u001b[1;33m)\u001b[0m \u001b[1;33m>\u001b[0m \u001b[1;36m0\u001b[0m \u001b[1;32mand\u001b[0m \u001b[0mself\u001b[0m\u001b[1;33m.\u001b[0m\u001b[0minferred_type\u001b[0m \u001b[1;32min\u001b[0m \u001b[1;33m[\u001b[0m\u001b[1;34m'integer'\u001b[0m\u001b[1;33m,\u001b[0m \u001b[1;34m'boolean'\u001b[0m\u001b[1;33m]\u001b[0m\u001b[1;33m:\u001b[0m\u001b[1;33m\u001b[0m\u001b[0m\n",
      "\u001b[1;32mpandas\\_libs\\index.pyx\u001b[0m in \u001b[0;36mpandas._libs.index.IndexEngine.get_value\u001b[1;34m()\u001b[0m\n",
      "\u001b[1;32mpandas\\_libs\\index.pyx\u001b[0m in \u001b[0;36mpandas._libs.index.IndexEngine.get_value\u001b[1;34m()\u001b[0m\n",
      "\u001b[1;32mpandas\\_libs\\index.pyx\u001b[0m in \u001b[0;36mpandas._libs.index.IndexEngine.get_loc\u001b[1;34m()\u001b[0m\n",
      "\u001b[1;32mpandas\\_libs\\hashtable_class_helper.pxi\u001b[0m in \u001b[0;36mpandas._libs.hashtable.Int64HashTable.get_item\u001b[1;34m()\u001b[0m\n",
      "\u001b[1;32mpandas\\_libs\\hashtable_class_helper.pxi\u001b[0m in \u001b[0;36mpandas._libs.hashtable.Int64HashTable.get_item\u001b[1;34m()\u001b[0m\n",
      "\u001b[1;31mKeyError\u001b[0m: 1"
     ]
    }
   ],
   "source": [
    "count_matrix, all_words, doc_count = get_count_matrix(michael['line_text'])\n",
    "tfidf_matrix = get_tfidf_matrix(michael['line_text'], count_matrix, doc_count)"
   ]
  },
  {
   "cell_type": "code",
   "execution_count": 102,
   "metadata": {},
   "outputs": [],
   "source": [
    "write_matrix_to_file(count_matrix, all_words, \"count_matrix.csv\")\n",
    "write_matrix_to_file(tfidf_matrix, all_words, \"tfidf_matrix.csv\")"
   ]
  },
  {
   "cell_type": "code",
   "execution_count": 101,
   "metadata": {},
   "outputs": [],
   "source": [
    "def write_matrix_to_file(matrix, words, output):\n",
    "    header = \"\"\n",
    "    for i in range(len(words)-1):\n",
    "        header += words[i] + \",\"\n",
    "    header += all_words[len(words)-1]\n",
    "    np.savetxt(output, matrix, delimiter=\",\",fmt='%.4e',header=header,comments='')"
   ]
  }
 ],
 "metadata": {
  "kernelspec": {
   "display_name": "Python 3",
   "language": "python",
   "name": "python3"
  },
  "language_info": {
   "codemirror_mode": {
    "name": "ipython",
    "version": 3
   },
   "file_extension": ".py",
   "mimetype": "text/x-python",
   "name": "python",
   "nbconvert_exporter": "python",
   "pygments_lexer": "ipython3",
   "version": "3.6.2"
  }
 },
 "nbformat": 4,
 "nbformat_minor": 2
}
